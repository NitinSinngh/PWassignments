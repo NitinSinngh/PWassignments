{
 "cells": [
  {
   "cell_type": "raw",
   "id": "98a3f5bb",
   "metadata": {},
   "source": [
    "\n",
    "Q1. Write a program to accept percentage from the user and display the grade according to the following criteria:\n",
    " \n",
    " Marks            Grade    \n",
    " >90                A\n",
    " >80 and <=90       B\n",
    " >=60 and <=80      C\n",
    " below 60           D\n"
   ]
  },
  {
   "cell_type": "code",
   "execution_count": 1,
   "id": "47f603ec",
   "metadata": {},
   "outputs": [
    {
     "name": "stdout",
     "output_type": "stream",
     "text": [
      "Enter the marks as percentage: 68\n",
      "Your Grade is: C\n"
     ]
    }
   ],
   "source": [
    "## Code\n",
    "P= float(input(\"Enter the marks as percentage: \"))\n",
    "if P>90:\n",
    "    Grade=\"A\"\n",
    "elif P>80 and P<=90:\n",
    "    Grade=\"B\"\n",
    "elif P>=60 and P<=80:\n",
    "    Grade=\"C\"\n",
    "else:\n",
    "    Grade=\"D\"\n",
    "    \n",
    "print(\"Your Grade is:\", Grade)\n",
    "\n",
    "    "
   ]
  },
  {
   "cell_type": "raw",
   "id": "8e91b760",
   "metadata": {},
   "source": [
    "\n",
    "Q2. Write a program to accept the cost price of a bike and display the road tax to be paid according to the following criteria:\n",
    " \n",
    " Tax    Cost Price(in Rs.)    \n",
    " 15%         >100000\n",
    " \n",
    " 10%    >50000 and <=100000\n",
    " \n",
    " 5%          <=50000\n"
   ]
  },
  {
   "cell_type": "code",
   "execution_count": 2,
   "id": "adfe2ec1",
   "metadata": {},
   "outputs": [
    {
     "name": "stdout",
     "output_type": "stream",
     "text": [
      "Enter the cost price of the bike in Rupees: 70000\n",
      "The road tax to be paid is: 7000.0 Rupees\n"
     ]
    }
   ],
   "source": [
    "## Code\n",
    "cost_price = int(input(\"Enter the cost price of the bike in Rupees: \"))\n",
    "\n",
    "if cost_price > 100000:\n",
    "    tax = cost_price * 0.15\n",
    "elif cost_price > 50000 and cost_price <= 100000:\n",
    "    tax = cost_price * 0.10\n",
    "else:\n",
    "    tax = cost_price * 0.05\n",
    "\n",
    "print(\"The road tax to be paid is:\", tax, \"Rupees\")"
   ]
  },
  {
   "cell_type": "raw",
   "id": "cea9990f",
   "metadata": {},
   "source": [
    "\n",
    "Q3. Accept any city from the user and display monuments of that city.\n",
    " \n",
    " City       Monument    \n",
    " Delhi      Red Fort\n",
    " Agra       Taj Mahal\n",
    " Jaipur     Jal Mahal\n",
    "\n",
    "\n"
   ]
  },
  {
   "cell_type": "code",
   "execution_count": 3,
   "id": "b199c22d",
   "metadata": {},
   "outputs": [
    {
     "name": "stdout",
     "output_type": "stream",
     "text": [
      "Enter the name of the city: Agra\n",
      "The famous monument in Agra is Taj Mahal\n"
     ]
    }
   ],
   "source": [
    "## Code\n",
    "city = input(\"Enter the name of the city: \")\n",
    "\n",
    "if city == 'Delhi':\n",
    "    monument = 'Red Fort'\n",
    "elif city == 'Agra':\n",
    "    monument = 'Taj Mahal'\n",
    "elif city == 'Jaipur':\n",
    "    monument = 'Jal Mahal'\n",
    "else:\n",
    "    monument = 'Unknown monument'\n",
    "\n",
    "print(\"The famous monument in\", city, \"is\", monument)\n"
   ]
  },
  {
   "cell_type": "raw",
   "id": "7eb3a5c9",
   "metadata": {},
   "source": [
    "Q4. Check how many times a given number can be divided by 3 before it is less than or equal to 10."
   ]
  },
  {
   "cell_type": "code",
   "execution_count": 4,
   "id": "73ae4d95",
   "metadata": {},
   "outputs": [
    {
     "name": "stdout",
     "output_type": "stream",
     "text": [
      "Enter a number: 432\n",
      "The number can be divided 3 times by 3 before it is less than or equal to 10.\n"
     ]
    }
   ],
   "source": [
    "number = int(input(\"Enter a number: \"))\n",
    "divisions = 0\n",
    "\n",
    "while number > 10:\n",
    "    if number % 3 == 0:\n",
    "        number = number // 3\n",
    "        divisions += 1\n",
    "    else:\n",
    "        break\n",
    "\n",
    "print(\"The number can be divided\", divisions, \"times by 3 before it is less than or equal to 10.\")\n",
    "\n"
   ]
  },
  {
   "cell_type": "raw",
   "id": "8d1d7b81",
   "metadata": {},
   "source": [
    "Q5. Why and When to use while loop in python give a detailed description with example?\n",
    "Ans. A while loop in Python is used to repeat a block of code as long as a specified condition is true. The loop continues to        execute until the condition is false.\n",
    "\n",
    "Here's the basic syntax for a while loop:\n",
    "while condition:\n",
    "    # code to be executed\n",
    "    \n",
    "The condition can be any expression that evaluates to a boolean value (True or False). If the condition is true, the code inside the loop will be executed. After each iteration, the condition is re-evaluated, and if it is still true, the loop continues to execute. If the condition becomes false, the loop terminates and the program continues with the next line of code after the loop."
   ]
  },
  {
   "cell_type": "code",
   "execution_count": 5,
   "id": "155e55fe",
   "metadata": {},
   "outputs": [
    {
     "name": "stdout",
     "output_type": "stream",
     "text": [
      "Enter a positive integer: 10\n",
      "The sum of the first 10 positive integers is 55\n"
     ]
    }
   ],
   "source": [
    "## Example of while loop\n",
    "## calculate the sum of the first n positive integers\n",
    "n = int(input(\"Enter a positive integer: \"))\n",
    "\n",
    "sum = 0\n",
    "i = 1\n",
    "\n",
    "while i <= n:\n",
    "    sum = sum + i\n",
    "    i = i + 1\n",
    "\n",
    "print(\"The sum of the first\", n, \"positive integers is\", sum)\n"
   ]
  },
  {
   "cell_type": "raw",
   "id": "6cf16d12",
   "metadata": {},
   "source": [
    "Q6. Use nested while loop to print 3 different pattern."
   ]
  },
  {
   "cell_type": "code",
   "execution_count": 6,
   "id": "7836a0fd",
   "metadata": {},
   "outputs": [
    {
     "name": "stdout",
     "output_type": "stream",
     "text": [
      "* \n",
      "* * \n",
      "* * * \n",
      "* * * * \n",
      "* * * * * \n"
     ]
    }
   ],
   "source": [
    "## Pattern-1\n",
    "i=1\n",
    "while i<=5:\n",
    "    j=1\n",
    "    while j<=i:\n",
    "        print(\"*\",end=\" \")\n",
    "        j=j+1\n",
    "    print()\n",
    "    i=i+1\n"
   ]
  },
  {
   "cell_type": "code",
   "execution_count": 7,
   "id": "0ed296e9",
   "metadata": {},
   "outputs": [
    {
     "name": "stdout",
     "output_type": "stream",
     "text": [
      "* * * * * \n",
      "* * * * \n",
      "* * * \n",
      "* * \n",
      "* \n"
     ]
    }
   ],
   "source": [
    "## Pattern-2\n",
    "i=5\n",
    "while i>=1:\n",
    "    j=1\n",
    "    while j<=i:\n",
    "        print(\"*\",end=\" \")\n",
    "        j=j+1\n",
    "    print()\n",
    "    i=i-1"
   ]
  },
  {
   "cell_type": "code",
   "execution_count": 8,
   "id": "b7b3125b",
   "metadata": {},
   "outputs": [
    {
     "name": "stdout",
     "output_type": "stream",
     "text": [
      "    *\n",
      "   ***\n",
      "  *****\n",
      " *******\n",
      "*********\n"
     ]
    }
   ],
   "source": [
    "## Pattern-3\n",
    "n=5\n",
    "i = 1\n",
    "while i <= n:\n",
    "    j = 1\n",
    "    while j <= (n - i):\n",
    "        print(\" \", end=\"\")\n",
    "        j += 1\n",
    "    k = 1\n",
    "    while k <= (2 * i-1 ):\n",
    "        print(\"*\", end=\"\")\n",
    "        k += 1\n",
    "    print()\n",
    "    i += 1"
   ]
  },
  {
   "cell_type": "raw",
   "id": "629b08c6",
   "metadata": {},
   "source": [
    "Q7. Reverse a while loop to display numbers from 10 to 1."
   ]
  },
  {
   "cell_type": "code",
   "execution_count": 12,
   "id": "ca4fe9e6",
   "metadata": {},
   "outputs": [
    {
     "name": "stdout",
     "output_type": "stream",
     "text": [
      "10\n",
      "9\n",
      "8\n",
      "7\n",
      "6\n",
      "5\n",
      "4\n",
      "3\n",
      "2\n",
      "1\n"
     ]
    }
   ],
   "source": [
    "## Code\n",
    "n=1\n",
    "i=10\n",
    "while i>=n:\n",
    "    print(i)\n",
    "    i=i-1"
   ]
  },
  {
   "cell_type": "raw",
   "id": "cbf2fa95",
   "metadata": {},
   "source": [
    "Q8. Reverse a while loop to display numbers from 10 to 1."
   ]
  },
  {
   "cell_type": "code",
   "execution_count": 13,
   "id": "7d4915b4",
   "metadata": {},
   "outputs": [
    {
     "name": "stdout",
     "output_type": "stream",
     "text": [
      "10\n",
      "9\n",
      "8\n",
      "7\n",
      "6\n",
      "5\n",
      "4\n",
      "3\n",
      "2\n",
      "1\n"
     ]
    }
   ],
   "source": [
    "## Code\n",
    "n=1\n",
    "i=10\n",
    "while i>=n:\n",
    "    print(i)\n",
    "    i=i-1"
   ]
  },
  {
   "cell_type": "code",
   "execution_count": null,
   "id": "405c2b3f",
   "metadata": {},
   "outputs": [],
   "source": []
  }
 ],
 "metadata": {
  "kernelspec": {
   "display_name": "Python 3 (ipykernel)",
   "language": "python",
   "name": "python3"
  },
  "language_info": {
   "codemirror_mode": {
    "name": "ipython",
    "version": 3
   },
   "file_extension": ".py",
   "mimetype": "text/x-python",
   "name": "python",
   "nbconvert_exporter": "python",
   "pygments_lexer": "ipython3",
   "version": "3.9.12"
  }
 },
 "nbformat": 4,
 "nbformat_minor": 5
}
