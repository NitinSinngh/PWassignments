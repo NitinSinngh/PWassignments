{
 "cells": [
  {
   "cell_type": "markdown",
   "id": "597985e6",
   "metadata": {},
   "source": [
    "Q1. What is Gradient Boosting Regression?\n",
    "\n",
    "Ans. Gradient Boosting Regression is a machine learning technique that belongs to the family of ensemble learning methods. Specifically, it is a regression algorithm that combines the predictions of multiple weak learners (typically decision trees) to create a strong predictive model. The term \"gradient\" in Gradient Boosting refers to the technique's use of gradient descent optimization to minimize the loss function.\n",
    "\n",
    "Here are the key components and concepts associated with Gradient Boosting Regression:\n",
    "\n",
    "1. **Weak Learners (Decision Trees):**\n",
    "   - Gradient Boosting Regression uses decision trees as weak learners. These are often shallow trees with a limited number of nodes or depth, referred to as \"stumps\" when they are very shallow.\n",
    "\n",
    "2. **Sequential Training:**\n",
    "   - The algorithm builds a series of decision trees sequentially. Each tree is trained to correct the errors or residuals of the combined predictions of the previously trained trees.\n",
    "\n",
    "3. **Loss Function:**\n",
    "   - The optimization objective is to minimize a loss function, which measures the difference between the predicted values and the actual target values. Common loss functions for regression tasks include mean squared error (MSE) and mean absolute error (MAE).\n",
    "\n",
    "4. **Gradient Descent:**\n",
    "   - Gradient Boosting Regression uses gradient descent to minimize the loss function. In each iteration, the algorithm calculates the gradient of the loss function with respect to the model's predictions, and it adjusts the model's parameters (tree predictions) in the direction that reduces the loss.\n",
    "\n",
    "5. **Residuals and Learning Rate:**\n",
    "   - Each weak learner is trained to predict the residuals (errors) of the combined model. The learning rate parameter controls the step size in the gradient descent optimization, influencing the contribution of each tree to the final ensemble.\n",
    "\n",
    "6. **Ensemble Combination:**\n",
    "   - The predictions of all weak learners are combined to form the final ensemble prediction. The ensemble is essentially the sum of the predictions from all the trees, each multiplied by a learning rate and added sequentially.\n",
    "\n",
    "7. **Regularization:**\n",
    "   - Gradient Boosting Regression often incorporates regularization techniques, such as tree pruning or shrinkage, to prevent overfitting and improve the model's generalization to new data.\n",
    "\n",
    "8. **Hyperparameters:**\n",
    "   - Gradient Boosting Regression has various hyperparameters that can be tuned to optimize its performance. These include the learning rate, the depth of the trees, the number of trees, and regularization parameters.\n",
    "\n"
   ]
  },
  {
   "cell_type": "code",
   "execution_count": null,
   "id": "d356cdd4",
   "metadata": {},
   "outputs": [],
   "source": []
  },
  {
   "cell_type": "markdown",
   "id": "a88c8f35",
   "metadata": {},
   "source": [
    "Q2. Implement a simple gradient boosting algorithm from scratch using Python and NumPy. Use a\n",
    "simple regression problem as an example and train the model on a small dataset. Evaluate the model's\n",
    "performance using metrics such as mean squared error and R-squared.\n",
    "\n",
    "Ans.Implementing a gradient boosting algorithm from scratch involves constructing decision trees and implementing the gradient descent optimization process. Below is a simplified example of a gradient boosting algorithm for regression using Python and NumPy. Please note that this implementation is basic and lacks some of the optimizations present in more advanced libraries.\n",
    "\n"
   ]
  },
  {
   "cell_type": "code",
   "execution_count": 1,
   "id": "2d271946",
   "metadata": {},
   "outputs": [
    {
     "name": "stderr",
     "output_type": "stream",
     "text": [
      "C:\\Users\\jatin\\AppData\\Local\\Temp\\ipykernel_23104\\1381984190.py:37: DeprecationWarning: Calling np.sum(generator) is deprecated, and in the future will give a different result. Use np.sum(np.fromiter(generator)) or the python sum builtin instead.\n",
      "  predictions = np.sum(self.learning_rate * model.predict(X) for model in self.models)\n"
     ]
    },
    {
     "data": {
      "image/png": "[encoded data removed]",
      "text/plain": [
       "<Figure size 432x288 with 1 Axes>"
      ]
     },
     "metadata": {
      "needs_background": "light"
     },
     "output_type": "display_data"
    },
    {
     "name": "stdout",
     "output_type": "stream",
     "text": [
      "Mean Squared Error: 50.4891\n",
      "R-squared: -2.1481\n"
     ]
    }
   ],
   "source": [
    "import numpy as np\n",
    "from sklearn.tree import DecisionTreeRegressor\n",
    "from sklearn.metrics import mean_squared_error, r2_score\n",
    "import matplotlib.pyplot as plt\n",
    "\n",
    "# Generate synthetic data\n",
    "np.random.seed(42)\n",
    "X = np.random.rand(100, 1) * 5\n",
    "y = 3 * X.squeeze() + np.random.randn(100) * 0.5\n",
    "\n",
    "# Gradient Boosting Regression class\n",
    "class GradientBoostingRegressor:\n",
    "    def __init__(self, n_estimators=100, learning_rate=0.1):\n",
    "        self.n_estimators = n_estimators\n",
    "        self.learning_rate = learning_rate\n",
    "        self.models = []\n",
    "\n",
    "    def fit(self, X, y):\n",
    "        # Initialize with the mean of the target variable\n",
    "        initial_prediction = np.mean(y)\n",
    "        residuals = y - initial_prediction\n",
    "\n",
    "        for _ in range(self.n_estimators):\n",
    "            # Fit a weak learner (decision tree) to the residuals\n",
    "            tree = DecisionTreeRegressor(max_depth=3)\n",
    "            tree.fit(X, residuals)\n",
    "\n",
    "            # Update predictions based on the weak learner\n",
    "            prediction = tree.predict(X)\n",
    "            residuals -= self.learning_rate * prediction\n",
    "\n",
    "            # Store the weak learner in the ensemble\n",
    "            self.models.append(tree)\n",
    "\n",
    "    def predict(self, X):\n",
    "        # Combine predictions of all weak learners\n",
    "        predictions = np.sum(self.learning_rate * model.predict(X) for model in self.models)\n",
    "        return predictions\n",
    "\n",
    "# Split the data into training and testing sets\n",
    "split_idx = int(0.8 * len(X))\n",
    "X_train, X_test = X[:split_idx], X[split_idx:]\n",
    "y_train, y_test = y[:split_idx], y[split_idx:]\n",
    "\n",
    "# Train the Gradient Boosting Regressor\n",
    "gb_regressor = GradientBoostingRegressor(n_estimators=100, learning_rate=0.1)\n",
    "gb_regressor.fit(X_train, y_train)\n",
    "\n",
    "# Make predictions on the test set\n",
    "y_pred = gb_regressor.predict(X_test)\n",
    "\n",
    "# Evaluate the model\n",
    "mse = mean_squared_error(y_test, y_pred)\n",
    "r2 = r2_score(y_test, y_pred)\n",
    "\n",
    "# Plot the results\n",
    "plt.scatter(X_test, y_test, color='black', label='Actual')\n",
    "plt.scatter(X_test, y_pred, color='red', label='Predicted')\n",
    "plt.title('Gradient Boosting Regression')\n",
    "plt.xlabel('X')\n",
    "plt.ylabel('y')\n",
    "plt.legend()\n",
    "plt.show()\n",
    "\n",
    "# Print evaluation metrics\n",
    "print(f'Mean Squared Error: {mse:.4f}')\n",
    "print(f'R-squared: {r2:.4f}')\n"
   ]
  },
  {
   "cell_type": "markdown",
   "id": "3af841d6",
   "metadata": {},
   "source": [
    "In this example, the GradientBoostingRegressor class is implemented with a basic decision tree as the weak learner. The algorithm is trained on a synthetic dataset, and the results are visualized using a scatter plot. Finally, mean squared error (MSE) and R-squared are calculated for evaluation."
   ]
  },
  {
   "cell_type": "code",
   "execution_count": null,
   "id": "10bc9b20",
   "metadata": {},
   "outputs": [],
   "source": []
  },
  {
   "cell_type": "markdown",
   "id": "b9305e02",
   "metadata": {},
   "source": [
    "Q3. Experiment with different hyperparameters such as learning rate, number of trees, and tree depth to\n",
    "optimise the performance of the model. Use grid search or random search to find the best\n",
    "hyperparameters.\n",
    "\n",
    "Ans.To experiment with different hyperparameters and optimize the performance of the model, you can use grid search or random search. Below is an example using grid search with scikit-learn's GridSearchCV to find the best hyperparameters for the Gradient Boosting Regression model:"
   ]
  },
  {
   "cell_type": "code",
   "execution_count": 2,
   "id": "4fb600c9",
   "metadata": {},
   "outputs": [
    {
     "name": "stdout",
     "output_type": "stream",
     "text": [
      "Best Hyperparameters: {'learning_rate': 0.1, 'max_depth': 3, 'n_estimators': 50}\n",
      "Mean Squared Error: 0.3531\n",
      "R-squared: 0.9780\n"
     ]
    }
   ],
   "source": [
    "import numpy as np\n",
    "from sklearn.model_selection import GridSearchCV\n",
    "from sklearn.metrics import mean_squared_error, make_scorer\n",
    "from sklearn.tree import DecisionTreeRegressor\n",
    "from sklearn.ensemble import GradientBoostingRegressor\n",
    "\n",
    "# Generate synthetic data\n",
    "np.random.seed(42)\n",
    "X = np.random.rand(100, 1) * 5\n",
    "y = 3 * X.squeeze() + np.random.randn(100) * 0.5\n",
    "\n",
    "# Create a Gradient Boosting Regressor\n",
    "gb_regressor = GradientBoostingRegressor()\n",
    "\n",
    "# Define the parameter grid for grid search\n",
    "param_grid = {\n",
    "    'n_estimators': [50, 100, 150],\n",
    "    'learning_rate': [0.01, 0.1, 0.2],\n",
    "    'max_depth': [3, 4, 5]\n",
    "}\n",
    "\n",
    "# Use grid search with mean squared error as the scoring metric\n",
    "mse_scorer = make_scorer(mean_squared_error, greater_is_better=False)\n",
    "grid_search = GridSearchCV(gb_regressor, param_grid, cv=5, scoring=mse_scorer)\n",
    "\n",
    "# Split the data into training and testing sets\n",
    "split_idx = int(0.8 * len(X))\n",
    "X_train, X_test = X[:split_idx], X[split_idx:]\n",
    "y_train, y_test = y[:split_idx], y[split_idx:]\n",
    "\n",
    "# Fit the model with grid search\n",
    "grid_search.fit(X_train, y_train)\n",
    "\n",
    "# Get the best hyperparameters\n",
    "best_params = grid_search.best_params_\n",
    "\n",
    "# Make predictions on the test set using the best model\n",
    "best_model = grid_search.best_estimator_\n",
    "y_pred = best_model.predict(X_test)\n",
    "\n",
    "# Evaluate the best model\n",
    "mse = mean_squared_error(y_test, y_pred)\n",
    "r2 = r2_score(y_test, y_pred)\n",
    "\n",
    "# Print the results\n",
    "print(\"Best Hyperparameters:\", best_params)\n",
    "print(f'Mean Squared Error: {mse:.4f}')\n",
    "print(f'R-squared: {r2:.4f}')\n"
   ]
  },
  {
   "cell_type": "markdown",
   "id": "66a6d118",
   "metadata": {},
   "source": [
    "In this example, the GridSearchCV is used to perform a grid search over different combinations of hyperparameters (number of trees, learning rate, and max depth) using 5-fold cross-validation. The best hyperparameters and the corresponding best model are then used to make predictions on the test set, and the performance of the best model is evaluated."
   ]
  },
  {
   "cell_type": "code",
   "execution_count": null,
   "id": "89aa8b29",
   "metadata": {},
   "outputs": [],
   "source": []
  },
  {
   "cell_type": "markdown",
   "id": "86cc8a28",
   "metadata": {},
   "source": [
    "Q4. What is a weak learner in Gradient Boosting?\n",
    "\n",
    "Ans. In the context of Gradient Boosting, a weak learner refers to a model that performs slightly better than random chance on a given task. Specifically, it is a model that, when used as a component in an ensemble, contributes to the overall predictive power of the model, even though it may have limitations and be relatively simple.\n",
    "\n",
    "Here are some characteristics of weak learners in the context of Gradient Boosting:\n",
    "\n",
    "1. **Limited Complexity:**\n",
    "   - Weak learners are intentionally kept simple and have limited complexity. They are often shallow decision trees (stumps) with few nodes or levels.\n",
    "\n",
    "2. **Low Predictive Power:**\n",
    "   - Individually, weak learners may have low predictive power and may not perform well on the task compared to more complex models. However, they are designed to perform slightly better than random chance.\n",
    "\n",
    "3. **Focus on Residuals:**\n",
    "   - In the context of Gradient Boosting, weak learners are trained to predict the residuals (errors) of the combined model. Each weak learner corrects the errors of the ensemble formed by the previously trained weak learners.\n",
    "\n",
    "4. **Sequential Building:**\n",
    "   - Weak learners are added to the ensemble sequentially, with each new learner addressing the residuals left by the combined predictions of the existing ensemble. This sequential building process helps improve the model's performance iteratively.\n",
    "\n",
    "5. **Emphasis on Challenging Cases:**\n",
    "   - Weak learners are particularly useful for addressing challenging cases or instances that are difficult to classify correctly. They are focused on learning from the instances where the model currently performs poorly.\n",
    "\n"
   ]
  },
  {
   "cell_type": "code",
   "execution_count": null,
   "id": "7c55b9c0",
   "metadata": {},
   "outputs": [],
   "source": []
  },
  {
   "cell_type": "markdown",
   "id": "0b9d2f23",
   "metadata": {},
   "source": [
    "Q5. What is the intuition behind the Gradient Boosting algorithm?\n",
    "\n",
    "Ans.The intuition behind the Gradient Boosting algorithm lies in building a strong predictive model by combining the strengths of multiple weak learners, each correcting the errors of the ensemble. Here's an intuitive explanation of how Gradient Boosting works:\n",
    "\n",
    "1. **Sequential Improvement:**\n",
    "   - Gradient Boosting builds an ensemble of weak learners sequentially. Each weak learner is trained to correct the errors made by the combined predictions of the existing ensemble.\n",
    "\n",
    "2. **Focus on Residuals:**\n",
    "   - At each iteration, a weak learner is fit to the residuals (errors) of the current ensemble. The residuals represent the difference between the actual target values and the predictions made by the current ensemble.\n",
    "\n",
    "3. **Gradient Descent Optimization:**\n",
    "   - Gradient Boosting uses a form of gradient descent optimization to minimize the loss function. The optimization process involves adjusting the parameters of the weak learners in the direction that reduces the errors. This is done by calculating the negative gradient of the loss function with respect to the model's predictions.\n",
    "\n",
    "4. **Combining Weak Learners:**\n",
    "   - The predictions of all weak learners are combined to form the ensemble prediction. Each weak learner contributes to the final prediction by an amount proportional to its learning rate. The learning rate controls the step size in the gradient descent optimization.\n",
    "\n",
    "5. **Emphasis on Challenging Cases:**\n",
    "   - Weak learners are particularly effective in handling challenging instances or cases where the model performs poorly. The algorithm adapts to the complexity of the data by giving more emphasis to instances with larger residuals.\n",
    "\n",
    "6. **Regularization and Shrinkage:**\n",
    "   - Gradient Boosting often incorporates regularization techniques, such as tree pruning or shrinkage, to prevent overfitting. Regularization helps ensure that the model generalizes well to new, unseen data.\n",
    "\n"
   ]
  },
  {
   "cell_type": "code",
   "execution_count": null,
   "id": "96d284bc",
   "metadata": {},
   "outputs": [],
   "source": []
  },
  {
   "cell_type": "markdown",
   "id": "ca3e2fa5",
   "metadata": {},
   "source": [
    "Q6. How does Gradient Boosting algorithm build an ensemble of weak learners?\n",
    "\n",
    "Ans.The Gradient Boosting algorithm builds an ensemble of weak learners sequentially, with each weak learner added to the ensemble correcting the errors or residuals of the existing ensemble. The process involves the following steps:\n",
    "\n",
    "1. **Initialize Ensemble:**\n",
    "   - The process begins by initializing the ensemble with a simple model, often the mean (for regression tasks) or the log-odds (for binary classification tasks) of the target variable. This initial prediction serves as a starting point for the optimization process.\n",
    "\n",
    "2. **Calculate Residuals:**\n",
    "   - Calculate the residuals, which represent the difference between the actual target values and the predictions made by the current ensemble. These residuals are the errors that need to be corrected.\n",
    "\n",
    "3. **Train a Weak Learner:**\n",
    "   - Fit a weak learner (e.g., a shallow decision tree) to the residuals. The weak learner is trained to predict the residuals left by the current ensemble. The goal is to improve the predictions for instances where the model currently performs poorly.\n",
    "\n",
    "4. **Update Ensemble Predictions:**\n",
    "   - Update the ensemble predictions by combining the predictions of the current weak learner with the predictions of the existing ensemble. The combination is performed with a learning rate, which controls the step size in the optimization process. The learning rate is a hyperparameter that influences the contribution of each weak learner to the final prediction.\n",
    "\n",
    "5. **Repeat Iteratively:**\n",
    "   - Repeat steps 2-4 iteratively. In each iteration, a new weak learner is trained to predict the residuals of the combined model. The predictions of all weak learners are combined to form the ensemble prediction.\n",
    "\n",
    "6. **Stopping Criteria:**\n",
    "   - The process continues for a predefined number of iterations or until a stopping criterion is met. Stopping criteria may include reaching a specified number of weak learners, achieving a satisfactory level of performance, or when further iterations do not significantly improve the model.\n",
    "\n"
   ]
  },
  {
   "cell_type": "code",
   "execution_count": null,
   "id": "15f74803",
   "metadata": {},
   "outputs": [],
   "source": []
  },
  {
   "attachments": {
    "image-2.png": {
     "image/png": "[encoded data removed]"
    },
    "image-3.png": {
     "image/png": "[encoded data removed]"
    },
    "image.png": {
     "image/png": "[encoded data removed]"
    }
   },
   "cell_type": "markdown",
   "id": "b91737ad",
   "metadata": {},
   "source": [
    "Q7. What are the steps involved in constructing the mathematical intuition of Gradient Boosting\n",
    "algorithm?\n",
    "\n",
    "Ans.Constructing the mathematical intuition behind the Gradient Boosting algorithm involves understanding the optimization process, the role of residuals, and the update formula for the ensemble predictions. Below are the key steps involved in developing the mathematical intuition of Gradient Boosting:\n",
    "\n",
    "1. **Initialize Ensemble:**\n",
    "   - Start with the initial prediction, often the mean (for regression) or log-odds (for binary classification) of the target variable. This serves as the starting point for optimization.\n",
    "\n",
    "2. **Compute Residuals:**\n",
    "   - Calculate the residuals, which are the differences between the actual target values and the current predictions of the ensemble. The residuals represent the errors that need to be corrected.\n",
    "\n",
    "3. **Train Weak Learner:**\n",
    "   - Fit a weak learner (e.g., a shallow decision tree) to the residuals. The weak learner is trained to predict the residuals left by the current ensemble.\n",
    "\n",
    "4. **Compute Learning Rate-Weighted Prediction:**\n",
    "   - Multiply the predictions of the weak learner by a learning rate (α). The learning rate controls the step size in the optimization process. The weighted prediction is then added to the current ensemble predictions.\n",
    "\n",
    "   ![image-3.png](attachment:image-3.png)\n",
    "\n",
    "5. **Update Residuals:**\n",
    "   - Update the residuals by subtracting the predictions made by the weak learner. The new residuals represent the errors that remain after incorporating the information from the weak learner.\n",
    "\n",
    "  ![image-2.png](attachment:image-2.png)\n",
    "\n",
    "6. **Repeat Iteratively:**\n",
    "   - Repeat steps 2-5 iteratively. In each iteration, a new weak learner is trained to predict the current residuals. The predictions of all weak learners are combined with the existing ensemble predictions.\n",
    "\n",
    "7. **Combining Predictions:**\n",
    "   - The final prediction is the sum of the weighted predictions from all weak learners. The weights are determined by the learning rate and the predictions of the weak learners.\n",
    "\n",
    "![image.png](attachment:image.png)\n",
    "\n",
    "8. **Regularization (Optional):**\n",
    "   - Gradient Boosting often includes regularization techniques to prevent overfitting. Regularization may involve constraints on the complexity of the weak learners, such as tree pruning or shrinkage.\n",
    "\n",
    "9. **Stopping Criteria:**\n",
    "   - The process continues for a predefined number of iterations or until a stopping criterion is met. Stopping criteria may include reaching a specified number of weak learners, achieving a satisfactory level of performance, or when further iterations do not significantly improve the model.\n",
    "\n",
    "10. **Optimization Objective:**\n",
    "   - The objective of the optimization process is to minimize a loss function. Common loss functions include mean squared error (MSE) for regression and deviance (negative log-likelihood) for classification.\n"
   ]
  },
  {
   "cell_type": "code",
   "execution_count": null,
   "id": "3de141de",
   "metadata": {},
   "outputs": [],
   "source": []
  },
  {
   "cell_type": "code",
   "execution_count": null,
   "id": "9f81f6ea",
   "metadata": {},
   "outputs": [],
   "source": []
  },
  {
   "cell_type": "code",
   "execution_count": null,
   "id": "83e3decf",
   "metadata": {},
   "outputs": [],
   "source": []
  },
  {
   "cell_type": "code",
   "execution_count": null,
   "id": "e130389a",
   "metadata": {},
   "outputs": [],
   "source": []
  }
 ],
 "metadata": {
  "kernelspec": {
   "display_name": "Python 3 (ipykernel)",
   "language": "python",
   "name": "python3"
  },
  "language_info": {
   "codemirror_mode": {
    "name": "ipython",
    "version": 3
   },
   "file_extension": ".py",
   "mimetype": "text/x-python",
   "name": "python",
   "nbconvert_exporter": "python",
   "pygments_lexer": "ipython3",
   "version": "3.10.2"
  }
 },
 "nbformat": 4,
 "nbformat_minor": 5
}
