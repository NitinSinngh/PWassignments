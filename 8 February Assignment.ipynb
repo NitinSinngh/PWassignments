{
 "cells": [
  {
   "cell_type": "markdown",
   "id": "a1133f0f",
   "metadata": {},
   "source": [
    "Q1. What is Abstraction in OOps? Explain with an example.\n",
    "\n",
    "Ans. Abstraction in object-oriented programming (OOP) refers to the act of hiding implementation details and only showing the essential features of an object or class. The goal of abstraction is to simplify the usage of complex systems by hiding their inner workings from the user.\n",
    "\n",
    "For example, consider a car. A car is a complex system that consists of many parts such as an engine, wheels, gearbox, etc. However, as a user, we do not need to know the inner workings of a car in order to use it. We just need to know how to operate it by using the essential features such as the accelerator, brake, and steering wheel. This abstraction is achieved by encapsulating the inner workings of the car into the car object and exposing only the essential features to the user.\n",
    "\n",
    "Similarly, in OOP, abstraction can be achieved through the use of classes and objects. A class can define the essential features of an object and encapsulate the implementation details. This allows the user to interact with the object by using its essential features without having to know how the object is implemented internally.\n",
    "\n",
    "\n",
    "\n",
    "\n",
    "\n"
   ]
  },
  {
   "cell_type": "code",
   "execution_count": null,
   "id": "adf99651",
   "metadata": {},
   "outputs": [],
   "source": []
  },
  {
   "cell_type": "markdown",
   "id": "ec2aecf4",
   "metadata": {},
   "source": [
    "Q2. Differentiate between Abstraction and Encapsulation. Explain with an example.\n",
    "\n",
    "Ans. Abstraction refers to the ability of an object to hide its internal complexity and only reveal a simplified interface to the outside world. It allows the user to focus on what the object does, rather than how it does it. For example, consider a television remote control. It provides buttons for turning the TV on/off, adjusting the volume, changing the channel, etc. The user does not need to know the details of how the remote control works, but only needs to understand what the buttons do. This is an example of abstraction.\n",
    "\n",
    "Encapsulation, on the other hand, refers to the bundling of data and functions that operate on that data within a single unit, or object. This is used to restrict access to the data, protecting it from outside modification and allowing the implementation details to be hidden. For example, consider a bank account object that has methods for depositing and withdrawing money. The implementation details of these methods are hidden from the outside world, and access to the account balance is restricted to the methods defined within the bank account object. This helps ensure the integrity of the data, as well as makes the code easier to maintain and update.\n",
    "\n",
    "In short, abstraction focuses on hiding the implementation details and showing only the necessary information to the user, while encapsulation focuses on keeping the implementation details hidden and bundling the data and functions within a single unit.\n",
    "\n",
    "\n",
    "\n"
   ]
  },
  {
   "cell_type": "code",
   "execution_count": null,
   "id": "f8149b44",
   "metadata": {},
   "outputs": [],
   "source": []
  },
  {
   "cell_type": "markdown",
   "id": "49e96365",
   "metadata": {},
   "source": [
    "Q3. What is abc module in python? Why is it used?"
   ]
  },
  {
   "cell_type": "markdown",
   "id": "a0d2472f",
   "metadata": {},
   "source": [
    "Ans. The abc (abstract base class) module in Python is part of the standard library and provides support for creating abstract base classes. An abstract base class is a class that defines a common interface for its subclasses, but cannot be instantiated itself. The idea behind abstract base classes is to establish a common protocol or interface that subclasses can implement in their own way.\n",
    "The abc module provides a base class, ABC, that can be used as a base class for creating abstract base classes. The ABC class provides a convenient way to define abstract methods and properties, which are methods and properties that must be implemented by any concrete subclass.\n",
    "\n",
    "The main use of abstract base classes is to provide a way to define and enforce an interface for a set of related classes. This makes it possible to write code that depends on the interface defined by an abstract base class, rather than on the specific implementation of a concrete subclass. This can lead to more flexible and maintainable code, as well as improved code reuse.\n",
    "\n",
    "In Python, an abstract base class can be defined using the abc.ABC meta-class. To define an abstract method, the abc.abstractmethod decorator is used. Concrete classes that inherit from the abstract base class must implement all abstract methods, otherwise, a TypeError will be raised.\n",
    "\n"
   ]
  },
  {
   "cell_type": "code",
   "execution_count": null,
   "id": "5db43b5e",
   "metadata": {},
   "outputs": [],
   "source": []
  },
  {
   "cell_type": "markdown",
   "id": "d804b197",
   "metadata": {},
   "source": [
    "Q4. How can we achieve data abstraction?"
   ]
  },
  {
   "cell_type": "markdown",
   "id": "1bfad03c",
   "metadata": {},
   "source": [
    "Ans. Data abstraction is achieved in programming by encapsulating data within objects and hiding the implementation details of the object's behavior. This means that the object exposes a simplified interface to the outside world, and the internal details of how the object works are hidden.\n",
    "\n",
    "There are several techniques that can be used to achieve data abstraction in programming:\n",
    "\n",
    "1) Encapsulation: Encapsulation is the practice of bundling data and methods that operate on that data within a single unit, or object. This helps to hide the implementation details of the object's behavior and exposes a simplified interface to the outside world.\n",
    "\n",
    "2) Abstract classes: In object-oriented programming, abstract classes are classes that cannot be instantiated and are used as a base class for other classes to inherit from. They define an interface that must be implemented by concrete classes.\n",
    "\n",
    "3) Interfaces: Interfaces are used to specify a common set of methods that objects of different types must implement. This allows objects of different types to be treated as a single type, which is useful for writing code that can work with objects of different types.\n",
    "\n",
    "4) Access Modifiers: Access modifiers such as private, protected, and public can be used to control the visibility and accessibility of data and methods within an object. By making data and methods private, their implementation details can be hidden from the outside world.\n",
    "\n",
    "By using these techniques, data abstraction can be achieved in programming, making it easier to write code that can work with objects of different types, and helping to ensure the integrity and security of data."
   ]
  },
  {
   "cell_type": "code",
   "execution_count": null,
   "id": "f1ebc353",
   "metadata": {},
   "outputs": [],
   "source": []
  },
  {
   "cell_type": "markdown",
   "id": "da7be652",
   "metadata": {},
   "source": [
    "\n",
    "Q5. Can we create an instance of an abstract class? Explain your answer."
   ]
  },
  {
   "cell_type": "markdown",
   "id": "eac13360",
   "metadata": {},
   "source": [
    "Ans. No, you cannot create an instance of an abstract class. An abstract class is a class that cannot be instantiated and is used as a base class for other classes to inherit from. The purpose of an abstract class is to define an interface or a set of methods that must be implemented by concrete classes that inherit from the abstract class.\n",
    "\n",
    "In Python, abstract classes are defined using the abc (abstract base class) module and the abc.ABC meta-class. To define an abstract method, the abc.abstractmethod decorator is used. Concrete classes that inherit from the abstract class must implement all abstract methods, otherwise, a TypeError will be raised."
   ]
  },
  {
   "cell_type": "code",
   "execution_count": 4,
   "id": "94b8775a",
   "metadata": {},
   "outputs": [
    {
     "ename": "TypeError",
     "evalue": "Can't instantiate abstract class Shape with abstract methods area, perimeter",
     "output_type": "error",
     "traceback": [
      "\u001b[1;31m---------------------------------------------------------------------------\u001b[0m",
      "\u001b[1;31mTypeError\u001b[0m                                 Traceback (most recent call last)",
      "Cell \u001b[1;32mIn[4], line 14\u001b[0m\n\u001b[0;32m     11\u001b[0m         \u001b[38;5;28;01mpass\u001b[39;00m\n\u001b[0;32m     13\u001b[0m \u001b[38;5;66;03m# This will raise a TypeError, because Shape is an abstract class\u001b[39;00m\n\u001b[1;32m---> 14\u001b[0m shape \u001b[38;5;241m=\u001b[39m \u001b[43mShape\u001b[49m\u001b[43m(\u001b[49m\u001b[43m)\u001b[49m\n\u001b[0;32m     17\u001b[0m \u001b[38;5;124;03m\"\"\"In this example, the Shape class is defined as an abstract class using the abc.ABCMeta meta-class.\u001b[39;00m\n\u001b[0;32m     18\u001b[0m \u001b[38;5;124;03mWhen an attempt is made to create an instance of the Shape class, a TypeError is raised because Shape is an abstract class \u001b[39;00m\n\u001b[0;32m     19\u001b[0m \u001b[38;5;124;03mand cannot be instantiated. Instead, concrete classes that inherit from the Shape class must be created, which will implement\u001b[39;00m\n\u001b[0;32m     20\u001b[0m \u001b[38;5;124;03mthe abstract methods defined in the Shape class.\"\"\"\u001b[39;00m\n",
      "\u001b[1;31mTypeError\u001b[0m: Can't instantiate abstract class Shape with abstract methods area, perimeter"
     ]
    }
   ],
   "source": [
    "#Here's an example to illustrate the concept:\n",
    "import abc\n",
    "\n",
    "class Shape(metaclass=abc.ABCMeta):\n",
    "    @abc.abstractmethod\n",
    "    def area(self):\n",
    "        pass\n",
    "    \n",
    "    @abc.abstractmethod\n",
    "    def perimeter(self):\n",
    "        pass\n",
    "\n",
    "# This will raise a TypeError, because Shape is an abstract class\n",
    "shape = Shape()\n",
    "\n",
    "\n",
    "\"\"\"In this example, the Shape class is defined as an abstract class using the abc.ABCMeta meta-class.\n",
    "When an attempt is made to create an instance of the Shape class, a TypeError is raised because Shape is an abstract class \n",
    "and cannot be instantiated. Instead, concrete classes that inherit from the Shape class must be created, which will implement\n",
    "the abstract methods defined in the Shape class.\"\"\""
   ]
  },
  {
   "cell_type": "code",
   "execution_count": null,
   "id": "e14af930",
   "metadata": {},
   "outputs": [],
   "source": []
  },
  {
   "cell_type": "code",
   "execution_count": null,
   "id": "7a1e7f8d",
   "metadata": {},
   "outputs": [],
   "source": []
  },
  {
   "cell_type": "code",
   "execution_count": null,
   "id": "0661faba",
   "metadata": {},
   "outputs": [],
   "source": []
  },
  {
   "cell_type": "code",
   "execution_count": null,
   "id": "0ad2af87",
   "metadata": {},
   "outputs": [],
   "source": [
    "\n"
   ]
  }
 ],
 "metadata": {
  "kernelspec": {
   "display_name": "Python 3 (ipykernel)",
   "language": "python",
   "name": "python3"
  },
  "language_info": {
   "codemirror_mode": {
    "name": "ipython",
    "version": 3
   },
   "file_extension": ".py",
   "mimetype": "text/x-python",
   "name": "python",
   "nbconvert_exporter": "python",
   "pygments_lexer": "ipython3",
   "version": "3.9.12"
  }
 },
 "nbformat": 4,
 "nbformat_minor": 5
}
