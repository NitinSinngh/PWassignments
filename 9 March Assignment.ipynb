{
 "cells": [
  {
   "cell_type": "markdown",
   "id": "af337014",
   "metadata": {},
   "source": [
    "Q1: What are the Probability Mass Function (PMF) and Probability Density Function (PDF)? Explain with an example.\n",
    "\n",
    "Ans. The Probability Mass Function (PMF) and Probability Density Function (PDF) are both functions used in probability theory to describe the likelihood of different outcomes of a random variable.\n",
    "\n",
    "The PMF is a function that gives the probability of each possible value that a discrete random variable can take. It is defined as:\n",
    "\n",
    "P(X = x) = f(x)\n",
    "\n",
    "where X is the random variable, x is a possible value that X can take, and f(x) is the probability of X taking the value x. The PMF assigns probabilities to discrete values of the random variable, such as the number of heads obtained when flipping a coin a certain number of times.\n",
    "\n",
    "For example, consider a fair six-sided die. The PMF of this die is given by:\n",
    "\n",
    "P(X = 1) = 1/6\n",
    "P(X = 2) = 1/6\n",
    "P(X = 3) = 1/6\n",
    "P(X = 4) = 1/6\n",
    "P(X = 5) = 1/6\n",
    "P(X = 6) = 1/6\n",
    "\n",
    "This means that the probability of rolling a 1 on the die is 1/6, the probability of rolling a 2 is 1/6, and so on.\n",
    "\n",
    "The PDF, on the other hand, is a function that gives the probability density of a continuous random variable at each possible value. It is defined as:\n",
    "\n",
    "f(x) = dF(x) / dx\n",
    "\n",
    "where F(x) is the cumulative distribution function (CDF) of the random variable, which gives the probability that X is less than or equal to a given value x. The PDF assigns probabilities to intervals of values of the random variable, such as the heights of people in a certain range.\n",
    "\n",
    "For example, consider the heights of adult women in a population. The distribution of these heights may be modeled by a normal distribution with mean μ and standard deviation σ. The PDF of this distribution is given by:\n",
    "\n",
    "f(x) = (1 / (σ * sqrt(2π))) * exp(-(x - μ)² / (2σ²))\n",
    "\n",
    "This means that the probability density at a height x is given by the above formula, which takes into account the mean and standard deviation of the distribution. The PDF can be used to calculate the probability that a randomly chosen woman's height falls within a certain range, such as between 5'5\" and 5'10\".\n",
    "\n",
    "\n",
    "\n"
   ]
  },
  {
   "cell_type": "code",
   "execution_count": null,
   "id": "804ccef6",
   "metadata": {},
   "outputs": [],
   "source": []
  },
  {
   "cell_type": "markdown",
   "id": "0e541bc8",
   "metadata": {},
   "source": [
    "Q2: What is Cumulative Density Function (CDF)? Explain with an example. Why CDF is used?\n",
    "\n",
    "Ans. The Cumulative Density Function (CDF) is a function used in probability theory to describe the probability of a random variable taking on a value less than or equal to a given value. In other words, the CDF gives the probability that a random variable is less than or equal to a certain value. The CDF is defined as:\n",
    "\n",
    "F(x) = P(X ≤ x)\n",
    "\n",
    "where X is the random variable, x is a possible value that X can take, and F(x) is the probability that X is less than or equal to x. The CDF is defined for both discrete and continuous random variables.\n",
    "\n",
    "The CDF is a useful tool in probability theory because it allows us to determine the probability of a random variable taking on a value less than or equal to a certain value, or within a certain range of values. It is also used to calculate other probabilities, such as the probability that a random variable takes on a value greater than a certain value or between two values.\n",
    "\n",
    "For example, consider a fair six-sided die. The CDF of this die is given by:\n",
    "\n",
    "F(x) = P(X ≤ x)\n",
    "\n",
    "Where X is the random variable representing the outcome of a single roll of the die, and x is a possible value that X can take, from 1 to 6. The CDF for the die is a step function, which increases by 1/6 at each possible value of X:\n",
    "\n",
    "F(1) = 1/6\n",
    "F(2) = 2/6\n",
    "F(3) = 3/6\n",
    "F(4) = 4/6\n",
    "F(5) = 5/6\n",
    "F(6) = 6/6 = 1\n",
    "\n",
    "This means that the probability of rolling a value less than or equal to 1 is 1/6, the probability of rolling a value less than or equal to 2 is 2/6 or 1/3, and so on."
   ]
  },
  {
   "cell_type": "code",
   "execution_count": null,
   "id": "285cd801",
   "metadata": {},
   "outputs": [],
   "source": []
  },
  {
   "cell_type": "markdown",
   "id": "6b7bd7e1",
   "metadata": {},
   "source": [
    "Q3: What are some examples of situations where the normal distribution might be used as a model? Explain how the parameters of the normal distribution relate to the shape of the distribution.\n",
    "\n",
    "Ans. The normal distribution, also known as the Gaussian distribution, is one of the most widely used probability distributions in statistics. It is used to model continuous variables that are approximately normally distributed. Some examples of situations where the normal distribution might be used as a model are:\n",
    "\n",
    "1. Heights of people: The distribution of heights in a population is approximately normally distributed.\n",
    "\n",
    "2. Weights of objects: The distribution of weights of objects produced by a manufacturing process may be normally distributed.\n",
    "\n",
    "3. Errors in measurements: The errors in measurements obtained from instruments may be modeled by a normal distribution.\n",
    "\n",
    "4. Exam scores: The distribution of exam scores in a large class may be approximately normally distributed.\n",
    "\n",
    "The normal distribution is characterized by two parameters: the mean (μ) and the standard deviation (σ). The mean represents the center of the distribution and the standard deviation represents the spread or width of the distribution. The mean determines the location of the peak of the distribution, while the standard deviation determines the shape of the distribution.\n",
    "\n",
    "If the standard deviation is small, the distribution will be tall and narrow, with most of the values clustered around the mean. If the standard deviation is large, the distribution will be flatter and wider, with more values spread out from the mean.\n",
    "\n",
    "The shape of the normal distribution is symmetric, with the mean and the median being the same value. The distribution is also bell-shaped, with most of the values concentrated around the mean and fewer values further away from the mean."
   ]
  },
  {
   "cell_type": "code",
   "execution_count": null,
   "id": "ec779703",
   "metadata": {},
   "outputs": [],
   "source": []
  },
  {
   "cell_type": "markdown",
   "id": "198e3faf",
   "metadata": {},
   "source": [
    "Q5: What is Bernaulli Distribution? Give an Example. What is the difference between Bernoulli Distribution and Binomial Distribution?\n",
    "\n",
    "Ans. Bernoulli distribution is a probability distribution that represents a random experiment with two possible outcomes: success with probability p and failure with probability 1-p. It is named after Swiss mathematician Jacob Bernoulli. A common example of Bernoulli distribution is flipping a coin, where the probability of getting heads (success) is p and the probability of getting tails (failure) is 1-p.\n",
    "\n",
    "The probability mass function (PMF) of the Bernoulli distribution is given by:\n",
    "\n",
    "P(X = 1) = p\n",
    "P(X = 0) = 1-p\n",
    "\n",
    "where X is a random variable representing the outcome of the experiment.\n",
    "\n",
    "The main difference between Bernoulli distribution and binomial distribution is that Bernoulli distribution models a single trial or experiment with two possible outcomes, while binomial distribution models the number of successes in a fixed number of independent Bernoulli trials."
   ]
  },
  {
   "cell_type": "code",
   "execution_count": null,
   "id": "757410cc",
   "metadata": {},
   "outputs": [],
   "source": []
  },
  {
   "cell_type": "markdown",
   "id": "654994d1",
   "metadata": {},
   "source": [
    "Q6. Consider a dataset with a mean of 50 and a standard deviation of 10. If we assume that the dataset is normally distributed, what is the probability that a randomly selected observation will be greater than 60? Use the appropriate formula and show your calculations.\n",
    "\n",
    "Ans. To find the probability that a randomly selected observation from a normally distributed dataset with mean 50 and standard deviation 10 will be greater than 60, we need to calculate the z-score first. The z-score measures how many standard deviations an observation is away from the mean.\n",
    "\n",
    "The formula for the z-score is:\n",
    "\n",
    "z = (x - μ) / σ\n",
    "\n",
    "where x is the value we are interested in, μ is the mean, and σ is the standard deviation.\n",
    "\n",
    "Substituting the values, we get:\n",
    "\n",
    "z = (60 - 50) / 10 = 1\n",
    "\n",
    "Now, we can use a standard normal distribution table or calculator to find the probability that a z-score is greater than 1. From the table, we find that the probability of a z-score greater than 1 is approximately 0.1587.\n",
    "\n",
    "Therefore, the probability that a randomly selected observation from the given dataset will be greater than 60 is approximately 0.1587 or 15.87%."
   ]
  },
  {
   "cell_type": "code",
   "execution_count": null,
   "id": "ba39447a",
   "metadata": {},
   "outputs": [],
   "source": []
  },
  {
   "cell_type": "markdown",
   "id": "72aafe16",
   "metadata": {},
   "source": [
    "Q7. Explain uniform Distribution with an example.\n",
    "\n",
    "Ans. Uniform distribution is a continuous probability distribution where all values within a given interval have an equal probability of occurring. This means that the probability density function (PDF) of a uniform distribution is constant within the interval and zero outside the interval. The uniform distribution is often used when we assume that the likelihood of an event occurring is equally likely across the range of possible outcomes.\n",
    "\n",
    "An example of uniform distribution could be the roll of a fair six-sided die. Each of the six numbers on the die has an equal chance of being rolled, so the probability of rolling any given number is 1/6. In this case, the interval is [1, 6], as the die can only show one of the six numbers within that range.\n",
    "\n",
    "The PDF of a uniform distribution over the interval [a, b] can be expressed as:\n",
    "\n",
    "f(x) = 1 / (b - a) if a <= x <= b\n",
    "f(x) = 0 otherwise\n",
    "\n",
    "where x is a random variable that takes on values within the interval [a, b]. \n"
   ]
  },
  {
   "cell_type": "code",
   "execution_count": null,
   "id": "116b6c1b",
   "metadata": {},
   "outputs": [],
   "source": []
  },
  {
   "cell_type": "markdown",
   "id": "89a2f4c7",
   "metadata": {},
   "source": [
    "Q8: What is the z score? State the importance of the z score.\n",
    "\n",
    "Ans. The z-score, also known as the standard score, is a statistical measurement that indicates how many standard deviations an observation or data point is from the mean of a distribution. It is calculated as the difference between the value of the observation and the mean of the distribution, divided by the standard deviation of the distribution.\n",
    "\n",
    "The formula for calculating the z-score is:\n",
    "\n",
    "z = (x - μ) / σ\n",
    "\n",
    "where x is the observation, μ is the mean of the distribution, and σ is the standard deviation of the distribution.\n",
    "\n",
    "The z-score is important because it allows us to compare observations from different distributions on a common scale. By standardizing the data using the z-score, we can easily see how many standard deviations a particular observation is from the mean of its distribution. A z-score of 0 indicates that the observation is at the mean of the distribution, while a positive z-score indicates that the observation is above the mean, and a negative z-score indicates that the observation is below the mean.\n",
    "\n",
    "The z-score is also used to calculate probabilities associated with a particular observation or range of observations. Since the standard normal distribution (i.e., a normal distribution with a mean of 0 and a standard deviation of 1) is a commonly used distribution, we can use the z-score to determine the probability of observing a particular value or range of values from any normal distribution. By looking up the probability associated with a particular z-score in a standard normal distribution table or using software, we can determine the probability of observing a particular value or range of values in any normal distribution."
   ]
  },
  {
   "cell_type": "code",
   "execution_count": null,
   "id": "2ea0d5e3",
   "metadata": {},
   "outputs": [],
   "source": []
  },
  {
   "cell_type": "markdown",
   "id": "99a9f532",
   "metadata": {},
   "source": [
    "Q9: What is Central Limit Theorem? State the significance of the Central Limit Theorem.\n",
    "\n",
    "Ans. The Central Limit Theorem (CLT) is a fundamental concept in probability theory and statistics. It states that if we have a large sample size from any population, the sampling distribution of the sample mean will tend to be normally distributed, regardless of the shape of the population distribution, provided that the sample size is large enough. Specifically, the CLT states that the mean of a large random sample will be approximately normally distributed, with a mean equal to the population mean, and a standard deviation equal to the population standard deviation divided by the square root of the sample size.\n",
    "\n",
    "The significance of the Central Limit Theorem is that it allows us to make statistical inferences about a population based on a sample, even if we do not know the distribution of the population. For example, we can estimate the population mean or the proportion of the population with a certain characteristic using a sample mean or proportion, respectively, and calculate the margin of error and confidence intervals around these estimates. This is because the CLT guarantees that the sampling distribution of the sample mean or proportion will be approximately normal, regardless of the distribution of the population."
   ]
  },
  {
   "cell_type": "code",
   "execution_count": null,
   "id": "69d26ae9",
   "metadata": {},
   "outputs": [],
   "source": []
  },
  {
   "cell_type": "markdown",
   "id": "9196ed59",
   "metadata": {},
   "source": [
    "Q10: State the assumptions of the Central Limit Theorem.\n",
    "\n",
    "Ans. The Central Limit Theorem (CLT) relies on the following assumptions:\n",
    "\n",
    "Random sampling: The samples must be drawn at random from the population of interest, with each individual having an equal chance of being included in the sample.\n",
    "\n",
    "Independence: The observations in the sample must be independent of each other. This means that the value of one observation does not affect the value of another observation in the sample.\n",
    "\n",
    "Finite population or large sample size: The CLT holds true for both finite populations and infinitely large populations. However, for finite populations, the sample size must be small relative to the population size. In practice, this means that the sample size should be less than 10% of the population size.\n",
    "\n",
    "Sample size: The sample size should be large enough so that the sampling distribution of the sample mean approaches a normal distribution. A commonly used rule of thumb is that the sample size should be at least 30.\n",
    "\n",
    "If these assumptions are met, then the CLT can be applied to estimate the parameters of interest for the population, such as the population mean or proportion, using the sample mean or proportion."
   ]
  },
  {
   "cell_type": "code",
   "execution_count": null,
   "id": "6fff5b98",
   "metadata": {},
   "outputs": [],
   "source": []
  }
 ],
 "metadata": {
  "kernelspec": {
   "display_name": "Python 3 (ipykernel)",
   "language": "python",
   "name": "python3"
  },
  "language_info": {
   "codemirror_mode": {
    "name": "ipython",
    "version": 3
   },
   "file_extension": ".py",
   "mimetype": "text/x-python",
   "name": "python",
   "nbconvert_exporter": "python",
   "pygments_lexer": "ipython3",
   "version": "3.9.12"
  }
 },
 "nbformat": 4,
 "nbformat_minor": 5
}
