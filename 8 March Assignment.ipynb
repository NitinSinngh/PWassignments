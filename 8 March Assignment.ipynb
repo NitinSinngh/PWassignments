{
 "cells": [
  {
   "cell_type": "markdown",
   "id": "3c85595b",
   "metadata": {},
   "source": [
    "Q1. What is the Probability density function?\n",
    "\n",
    "Ans. The Probability density function (PDF) is a function that describes the probability distribution of a continuous random variable. It represents the relative likelihood of observing a particular value or range of values of the random variable.\n",
    "\n",
    "The PDF is defined such that the probability of a value falling within a given range is equal to the integral of the PDF over that range. The PDF can take on values between zero and infinity, and the area under the PDF curve is equal to one.\n",
    "\n",
    "The PDF is an essential tool in statistics and probability theory for modeling and analyzing continuous random variables, such as the height or weight of a population or the time it takes for a machine to fail."
   ]
  },
  {
   "cell_type": "markdown",
   "id": "56729e4a",
   "metadata": {},
   "source": [
    "Q2. What are the types of Probability distribution?\n",
    "\n",
    "Ans. There are several types of probability distributions, including:\n",
    "\n",
    "1. Normal Distribution: Also known as the Gaussian distribution, it is the most common distribution that occurs naturally in many phenomena, including physical measurements such as height, weight, and temperature.\n",
    "\n",
    "2. Binomial Distribution: A discrete probability distribution that models the number of successes in a fixed number of independent trials with a constant probability of success in each trial.\n",
    "\n",
    "3. Poisson Distribution: A discrete probability distribution that models the number of events occurring in a fixed time interval when the events occur randomly and independently at a constant average rate.\n",
    "\n",
    "4. Uniform Distribution: A continuous probability distribution where all values within a given range are equally likely to occur.\n",
    "\n",
    "5. Exponential Distribution: A continuous probability distribution that models the time between events occurring randomly and independently at a constant average rate.\n",
    "\n",
    "6. Gamma Distribution: A continuous probability distribution that is used to model the waiting time until a specified number of events occur in a Poisson process.\n",
    "\n",
    "7. Beta Distribution: A continuous probability distribution that is used to model the probabilities of success and failure in a binomial distribution."
   ]
  },
  {
   "cell_type": "markdown",
   "id": "32c7da90",
   "metadata": {},
   "source": [
    "Q3. Write a Python function to calculate the probability density function of a normal distribution with\n",
    "given mean and standard deviation at a given point.\n"
   ]
  },
  {
   "cell_type": "code",
   "execution_count": 1,
   "id": "3cb789e4",
   "metadata": {},
   "outputs": [
    {
     "name": "stdout",
     "output_type": "stream",
     "text": [
      "0.10798193302637613\n"
     ]
    }
   ],
   "source": [
    "import math\n",
    "\n",
    "def normal_pdf(x, mu, sigma):\n",
    "    \"\"\"\n",
    "    Calculates the probability density function of a normal distribution\n",
    "    with the given mean and standard deviation at the given point.\n",
    "    \"\"\"\n",
    "    exponent = -(x - mu)**2 / (2 * sigma**2)\n",
    "    denominator = sigma * math.sqrt(2 * math.pi)\n",
    "    pdf = (1 / denominator) * math.exp(exponent)\n",
    "    return pdf\n",
    "\n",
    "pdf_at_0 = normal_pdf(0, 1, 0.5)\n",
    "print(pdf_at_0) "
   ]
  },
  {
   "cell_type": "markdown",
   "id": "28aac4cb",
   "metadata": {},
   "source": [
    "Q4. What are the properties of Binomial distribution? Give two examples of events where binomial distribution can be applied.\n",
    "\n",
    "Ans. The binomial distribution is a probability distribution that describes the number of successes in a fixed number of independent trials with a constant probability of success in each trial. Here are some properties of the binomial distribution:\n",
    "\n",
    "1. The binomial distribution is discrete, meaning that it only takes on integer values.\n",
    "2. The probability of success (p) is constant for each trial.\n",
    "3. The trials are independent of each other.\n",
    "4. The mean of the binomial distribution is equal to n * p.\n",
    "5. The variance of the binomial distribution is equal to n * p * (1 - p).\n",
    "\n",
    "Here are two examples of events where the binomial distribution can be applied:\n",
    "\n",
    "1. Coin flipping: Suppose you flip a fair coin 10 times and count the number of heads. This is an example of a binomial distribution, where the number of trials (n) is 10, and the probability of success (p) is 0.5 (assuming the coin is fair). Each flip of the coin is independent of the others, and the outcome is either heads (success) or tails (failure).\n",
    "\n",
    "2. Drug testing: Suppose a new drug is being tested for effectiveness. A clinical trial is conducted with 200 patients, and the number of patients who show improvement is recorded. This is also an example of a binomial distribution, where the number of trials (n) is 200, and the probability of success (p) is the proportion of patients who are expected to show improvement. Each patient is independent of the others, and the outcome is either improvement (success) or no improvement (failure)."
   ]
  },
  {
   "cell_type": "markdown",
   "id": "e749afe4",
   "metadata": {},
   "source": [
    "Q5. Generate a random sample of size 1000 from a binomial distribution with probability of success 0.4 and plot a histogram of the results using matplotlib.\n"
   ]
  },
  {
   "cell_type": "code",
   "execution_count": 30,
   "id": "a7609c22",
   "metadata": {},
   "outputs": [
    {
     "data": {
      "image/png": "[encoded data removed]",
      "text/plain": [
       "<Figure size 1600x900 with 1 Axes>"
      ]
     },
     "metadata": {},
     "output_type": "display_data"
    }
   ],
   "source": [
    "from scipy.stats import binom\n",
    "import matplotlib.pyplot as plt\n",
    "\n",
    "# Set the random seed for reproducibility\n",
    "binom.rvs(1000, 0.4, size=1000)\n",
    "\n",
    "# Generate a random sample of size 1000 from a binomial distribution\n",
    "sample = binom.rvs(n=1000, p=0.4, size=1000)\n",
    "\n",
    "plt.figure(figsize=(16,9))\n",
    "# Plot a histogram of the results using matplotlib\n",
    "plt.hist(sample, bins=25, edgecolor='black')\n",
    "plt.xlabel('Number of successes')\n",
    "plt.ylabel('Frequency')\n",
    "plt.title('Binomial Distribution with n=1000, p=0.4')\n",
    "plt.show()\n"
   ]
  },
  {
   "cell_type": "markdown",
   "id": "4bb176ee",
   "metadata": {},
   "source": [
    "Q6. Write a Python function to calculate the cumulative distribution function of a Poisson distribution with given mean at a given point.\n"
   ]
  },
  {
   "cell_type": "code",
   "execution_count": 31,
   "id": "5b5c3945",
   "metadata": {},
   "outputs": [
    {
     "name": "stdout",
     "output_type": "stream",
     "text": [
      "The probability that a Poisson-distributed random variable with mean 3.5 is less than or equal to 2 is 0.3208\n"
     ]
    }
   ],
   "source": [
    "from scipy.stats import poisson\n",
    "\n",
    "def poisson_cdf(mu, k):\n",
    "    \"\"\"\n",
    "    Calculates the cumulative distribution function (CDF) of a Poisson distribution with mean mu at a given point k.\n",
    "    \n",
    "    Parameters:\n",
    "    mu (float): mean of the Poisson distribution.\n",
    "    k (int or array-like): point or points at which to evaluate the CDF.\n",
    "    \n",
    "    Returns:\n",
    "    float or array-like: the probability that a Poisson-distributed random variable is less than or equal to k.\n",
    "    \"\"\"\n",
    "    return poisson.cdf(k, mu)\n",
    "\n",
    "# Example usage\n",
    "mu = 3.5  # mean of the Poisson distribution\n",
    "k = 2  # point at which to evaluate the CDF\n",
    "\n",
    "prob = poisson_cdf(mu, k)\n",
    "print(f\"The probability that a Poisson-distributed random variable with mean {mu} is less than or equal to {k} is {prob:.4f}\")\n"
   ]
  },
  {
   "cell_type": "markdown",
   "id": "850caa6a",
   "metadata": {},
   "source": [
    "Q7. How Binomial distribution different from Poisson distribution?\n",
    "\n",
    "Ans. The main difference between the binomial distribution and the Poisson distribution is the way that they model the probability of a certain number of events occurring over a fixed number of trials.\n",
    "\n",
    "The binomial distribution models the probability of getting a specific number of successes (e.g., heads) in a fixed number of independent trials, where the probability of success is constant for each trial. The number of trials is denoted by n, and the probability of success in each trial is denoted by p.\n",
    "\n",
    "The Poisson distribution, on the other hand, models the probability of a certain number of events occurring in a fixed interval of time or space, where the events occur randomly and independently of each other. The mean number of events per interval is denoted by λ.\n",
    "\n",
    "In general, the binomial distribution is used when the number of trials is fixed and small, and the probability of success is relatively high. The Poisson distribution, on the other hand, is used when the number of events is large and the probability of any one event occurring is relatively small.\n",
    "\n",
    "Here are some specific differences between the two distributions:\n",
    "\n",
    "1. Assumptions: The binomial distribution assumes a fixed number of trials with a constant probability of success in each trial. The Poisson distribution assumes a fixed interval of time or space with events occurring randomly and independently of each other.\n",
    "\n",
    "2. Mean and variance: For the binomial distribution, the mean is n*p and the variance is n*p*(1-p). For the Poisson distribution, the mean and variance are both equal to λ.\n",
    "\n",
    "3. Shape: The binomial distribution is generally bell-shaped, while the Poisson distribution is generally skewed to the right.\n",
    "\n",
    "4. Limits: The binomial distribution is discrete, meaning that the possible outcomes are integers. The Poisson distribution is also discrete, but can take on a wider range of values (i.e., any non-negative integer)."
   ]
  },
  {
   "cell_type": "markdown",
   "id": "e63a3087",
   "metadata": {},
   "source": [
    "Q8. Generate a random sample of size 1000 from a Poisson distribution with mean 5 and calculate the sample mean and variance.\n"
   ]
  },
  {
   "cell_type": "code",
   "execution_count": 34,
   "id": "a7e5a27a",
   "metadata": {},
   "outputs": [
    {
     "name": "stdout",
     "output_type": "stream",
     "text": [
      "Sample mean: 4.919\n",
      "Sample variance: 5.030439\n"
     ]
    }
   ],
   "source": [
    "import numpy as np\n",
    "\n",
    "# Set the random seed for reproducibility\n",
    "np.random.seed(123)\n",
    "\n",
    "# Generate a random sample of size 1000 from a Poisson distribution with mean 5\n",
    "sample = np.random.poisson(5, size=1000)\n",
    "\n",
    "# Calculate the sample mean\n",
    "sample_mean = np.mean(sample)\n",
    "print(\"Sample mean:\", sample_mean)\n",
    "\n",
    "# Calculate the sample variance\n",
    "sample_var = np.var(sample)\n",
    "print(\"Sample variance:\", sample_var)\n"
   ]
  },
  {
   "cell_type": "markdown",
   "id": "3a96f4bf",
   "metadata": {},
   "source": [
    "Q9. How mean and variance are related in Binomial distribution and Poisson distribution?\n",
    "\n",
    "Ans. In the binomial distribution, the mean is equal to n*p and the variance is equal to n*p*(1-p), where n is the number of trials and p is the probability of success in each trial. As the probability of success in each trial p approaches zero, the variance approaches the mean, which is a characteristic of the Poisson distribution. Therefore, the Poisson distribution can be seen as a limiting case of the binomial distribution, where the number of trials n is very large and the probability of success p is very small, such that λ=n*p is held constant.\n",
    "\n",
    "In the Poisson distribution, the mean and variance are both equal to λ, which represents the rate or intensity of the events occurring over a fixed interval of time or space. This means that the variance of the Poisson distribution is also equal to the mean, and that the distribution becomes increasingly less skewed as the mean increases.\n",
    "\n",
    "In summary, the mean and variance are related in the binomial distribution and Poisson distribution in the following ways:\n",
    "\n",
    "1. In the binomial distribution, the variance is a function of both the number of trials n and the probability of success p, and the mean is equal to n*p.\n",
    "\n",
    "2. As the probability of success p in the binomial distribution approaches zero, the variance approaches the mean, which is a characteristic of the Poisson distribution.\n",
    "\n",
    "3. In the Poisson distribution, the mean and variance are both equal to λ, which represents the rate or intensity of the events occurring over a fixed interval of time or space.\n",
    "\n",
    "4. As the mean of the Poisson distribution increases, the variance also increases, but the distribution becomes less skewed."
   ]
  },
  {
   "cell_type": "markdown",
   "id": "d2d1a880",
   "metadata": {},
   "source": [
    "Q10. In normal distribution with respect to mean position, where does the least frequent data appear?\n",
    "\n",
    "Ans. In a normal distribution, the least frequent data appears in the tails of the distribution, which are located at the extreme ends of the curve. The tails are the portions of the distribution that lie more than two standard deviations away from the mean. The further away from the mean a data point is, the less likely it is to occur, and therefore the tails contain the least frequent data.\n",
    "\n",
    "Specifically, for a normal distribution with mean μ and standard deviation σ, the tails of the distribution lie beyond the values μ + 2σ and μ - 2σ. The area under the curve beyond these values is approximately 0.05, or 5%, which means that about 5% of the data falls outside of this range. Therefore, the least frequent data in a normal distribution appears in the tails, which are located beyond μ + 2σ and μ - 2σ."
   ]
  },
  {
   "cell_type": "code",
   "execution_count": null,
   "id": "7cd61d70",
   "metadata": {},
   "outputs": [],
   "source": []
  }
 ],
 "metadata": {
  "kernelspec": {
   "display_name": "Python 3 (ipykernel)",
   "language": "python",
   "name": "python3"
  },
  "language_info": {
   "codemirror_mode": {
    "name": "ipython",
    "version": 3
   },
   "file_extension": ".py",
   "mimetype": "text/x-python",
   "name": "python",
   "nbconvert_exporter": "python",
   "pygments_lexer": "ipython3",
   "version": "3.9.12"
  }
 },
 "nbformat": 4,
 "nbformat_minor": 5
}
