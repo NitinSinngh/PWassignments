{
 "cells": [
  {
   "cell_type": "markdown",
   "id": "dfc9be22",
   "metadata": {},
   "source": [
    "Q1. Create a Pandas Series that contains the following data: 4, 8, 15, 16, 23, and 42. Then, print the series."
   ]
  },
  {
   "cell_type": "code",
   "execution_count": 1,
   "id": "c1395fd9",
   "metadata": {},
   "outputs": [
    {
     "name": "stdout",
     "output_type": "stream",
     "text": [
      "0     4\n",
      "1     8\n",
      "2    15\n",
      "3    16\n",
      "4    23\n",
      "5    42\n",
      "dtype: int64\n"
     ]
    }
   ],
   "source": [
    "import pandas as pd\n",
    "\n",
    "data = [4, 8, 15, 16, 23, 42]\n",
    "series = pd.Series(data)\n",
    "\n",
    "print(series)"
   ]
  },
  {
   "cell_type": "markdown",
   "id": "3809545b",
   "metadata": {},
   "source": [
    "Q2. Create a variable of list type containing 10 elements in it, and apply pandas.Series function on the variable print it."
   ]
  },
  {
   "cell_type": "code",
   "execution_count": 2,
   "id": "81a77b0f",
   "metadata": {},
   "outputs": [
    {
     "name": "stdout",
     "output_type": "stream",
     "text": [
      "0     1\n",
      "1     2\n",
      "2     3\n",
      "3     4\n",
      "4     5\n",
      "5     6\n",
      "6     7\n",
      "7     8\n",
      "8     9\n",
      "9    10\n",
      "dtype: int64\n"
     ]
    }
   ],
   "source": [
    "import pandas as pd\n",
    "\n",
    "my_list = [1, 2, 3, 4, 5, 6, 7, 8, 9, 10]\n",
    "series = pd.Series(my_list)\n",
    "\n",
    "print(series)"
   ]
  },
  {
   "cell_type": "raw",
   "id": "ed0aa440",
   "metadata": {},
   "source": [
    "Q3. Create a Pandas DataFrame that contains the following data:\n",
    "    \n",
    "Name        Age      Gender\n",
    "Alice       25       Female\n",
    "Bob         30        male\n",
    "Claire      27       Female\n"
   ]
  },
  {
   "cell_type": "code",
   "execution_count": 3,
   "id": "ea277dbf",
   "metadata": {},
   "outputs": [
    {
     "data": {
      "text/html": [
       "<div>\n",
       "<style scoped>\n",
       "    .dataframe tbody tr th:only-of-type {\n",
       "        vertical-align: middle;\n",
       "    }\n",
       "\n",
       "    .dataframe tbody tr th {\n",
       "        vertical-align: top;\n",
       "    }\n",
       "\n",
       "    .dataframe thead th {\n",
       "        text-align: right;\n",
       "    }\n",
       "</style>\n",
       "<table border=\"1\" class=\"dataframe\">\n",
       "  <thead>\n",
       "    <tr style=\"text-align: right;\">\n",
       "      <th></th>\n",
       "      <th>Name</th>\n",
       "      <th>Age</th>\n",
       "      <th>Gender</th>\n",
       "    </tr>\n",
       "  </thead>\n",
       "  <tbody>\n",
       "    <tr>\n",
       "      <th>0</th>\n",
       "      <td>Alice</td>\n",
       "      <td>25</td>\n",
       "      <td>Female</td>\n",
       "    </tr>\n",
       "    <tr>\n",
       "      <th>1</th>\n",
       "      <td>Bob</td>\n",
       "      <td>30</td>\n",
       "      <td>Male</td>\n",
       "    </tr>\n",
       "    <tr>\n",
       "      <th>2</th>\n",
       "      <td>Claire</td>\n",
       "      <td>27</td>\n",
       "      <td>Female</td>\n",
       "    </tr>\n",
       "  </tbody>\n",
       "</table>\n",
       "</div>"
      ],
      "text/plain": [
       "     Name  Age  Gender\n",
       "0   Alice   25  Female\n",
       "1     Bob   30    Male\n",
       "2  Claire   27  Female"
      ]
     },
     "execution_count": 3,
     "metadata": {},
     "output_type": "execute_result"
    }
   ],
   "source": [
    "pd.DataFrame({'Name':[\"Alice\",\"Bob\",\"Claire\"],'Age':[25,30,27],'Gender':[\"Female\",\"Male\",\"Female\"]})"
   ]
  },
  {
   "cell_type": "markdown",
   "id": "7a65f678",
   "metadata": {},
   "source": [
    "Q4. What is ‘DataFrame’ in pandas and how is it different from pandas.series? Explain with an example.\n",
    "\n",
    "Ans. In Pandas, a DataFrame is a two-dimensional table-like data structure, similar to a spreadsheet or a SQL table. It consists of rows and columns, where each column can have a different data type (e.g., numeric, string, datetime) and a unique column name, and each row represents a single observation or instance. A DataFrame can be thought of as a collection of Pandas Series that share the same index.\n",
    "\n",
    "In contrast, a Pandas Series is a one-dimensional array-like data structure that stores a sequence of values and an associated index. It can have a single data type (e.g., numeric, string, datetime) and a unique name, but does not have columns like a DataFrame.\n",
    "\n",
    "Here's an example to illustrate the difference between a Pandas Series and a DataFrame:"
   ]
  },
  {
   "cell_type": "code",
   "execution_count": 4,
   "id": "2fbc5fd7",
   "metadata": {},
   "outputs": [
    {
     "name": "stdout",
     "output_type": "stream",
     "text": [
      "Series:\n",
      " 0    1\n",
      "1    2\n",
      "2    3\n",
      "3    4\n",
      "4    5\n",
      "Name: Numbers, dtype: int64\n",
      "\n",
      "DataFrame:\n",
      "   Letters  Numbers\n",
      "0       a        1\n",
      "1       b        2\n",
      "2       c        3\n",
      "3       d        4\n",
      "4       e        5\n"
     ]
    }
   ],
   "source": [
    "import pandas as pd\n",
    "\n",
    "# Create a Pandas Series with some sample data\n",
    "series = pd.Series([1, 2, 3, 4, 5], name='Numbers')\n",
    "\n",
    "# Create a DataFrame with two columns, one from the Series and one from a list\n",
    "data = {'Letters': ['a', 'b', 'c', 'd', 'e'],\n",
    "        'Numbers': [1, 2, 3, 4, 5]}\n",
    "df = pd.DataFrame(data)\n",
    "\n",
    "# Print the Series and the DataFrame\n",
    "print('Series:\\n', series)\n",
    "print('\\nDataFrame:\\n', df)\n"
   ]
  },
  {
   "cell_type": "markdown",
   "id": "4652aa74",
   "metadata": {},
   "source": [
    "Q5. What are some common functions you can use to manipulate data in a Pandas DataFrame? Can you give an example of when you might use one of these functions?\n",
    "\n",
    "Ans. Pandas provides a wide range of functions to manipulate data in a DataFrame. Here are some common functions and their use cases:\n",
    "\n",
    "1. head() and tail(): To view the first or last n rows of a DataFrame, respectively. These are useful for quick inspection of data."
   ]
  },
  {
   "cell_type": "code",
   "execution_count": null,
   "id": "529edadd",
   "metadata": {},
   "outputs": [],
   "source": [
    "import pandas as pd\n",
    "\n",
    "df = pd.read_csv('export.csv')\n",
    "print(df.head(10)) # Prints the first 10 rows of the DataFrame\n",
    "print(df.tail(5)) # Prints the last 5 rows of the DataFrame\n"
   ]
  },
  {
   "cell_type": "markdown",
   "id": "60d5b84a",
   "metadata": {},
   "source": [
    "2. describe(): To generate descriptive statistics of a DataFrame, such as count, mean, standard deviation, minimum, maximum, and quartiles. This is useful for understanding the distribution of data.\n"
   ]
  },
  {
   "cell_type": "code",
   "execution_count": null,
   "id": "969c6aa4",
   "metadata": {},
   "outputs": [],
   "source": [
    "import pandas as pd\n",
    "\n",
    "df = pd.read_csv('data.csv')\n",
    "print(df.describe()) # Generates descriptive statistics of the DataFrame\n"
   ]
  },
  {
   "cell_type": "markdown",
   "id": "c8c50818",
   "metadata": {},
   "source": [
    "3. info(): To print a concise summary of a DataFrame, including its data types, column names, and number of non-null values. This is useful for checking the completeness and consistency of data."
   ]
  },
  {
   "cell_type": "code",
   "execution_count": null,
   "id": "67842b68",
   "metadata": {},
   "outputs": [],
   "source": [
    "import pandas as pd\n",
    "\n",
    "df = pd.read_csv('data.csv')\n",
    "print(df.info()) # Prints a concise summary of the DataFrame\n"
   ]
  },
  {
   "cell_type": "markdown",
   "id": "5125b520",
   "metadata": {},
   "source": [
    "Q6. Which of the following is mutable in nature Series, DataFrame, Panel?\n",
    "\n",
    "Ans. Both Series and DataFrame are mutable in nature, which means that you can modify their values, add or delete rows or columns, and perform various operations on them without creating a new object. "
   ]
  },
  {
   "cell_type": "markdown",
   "id": "6de01a80",
   "metadata": {},
   "source": [
    "Q7. Create a DataFrame using multiple Series. Explain with an example.\n",
    "\n",
    "Ans. You can create a DataFrame using multiple Series by combining them into a single DataFrame using the pd.DataFrame() function in Pandas. Here's an example:"
   ]
  },
  {
   "cell_type": "code",
   "execution_count": 9,
   "id": "4e442337",
   "metadata": {},
   "outputs": [
    {
     "name": "stdout",
     "output_type": "stream",
     "text": [
      "    Name  Age           City\n",
      "0   John   25       New York\n",
      "1  Alice   30        Chicago\n",
      "2    Bob   35  San Francisco\n"
     ]
    }
   ],
   "source": [
    "import pandas as pd\n",
    "\n",
    "# Create three Series for Name, Age, and City\n",
    "name_series = pd.Series(['John', 'Alice', 'Bob'])\n",
    "age_series = pd.Series([25, 30, 35])\n",
    "city_series = pd.Series(['New York', 'Chicago', 'San Francisco'])\n",
    "\n",
    "# Combine the Series into a DataFrame\n",
    "df = pd.DataFrame({'Name': name_series, 'Age': age_series, 'City': city_series})\n",
    "\n",
    "# Print the DataFrame\n",
    "print(df)\n"
   ]
  },
  {
   "cell_type": "code",
   "execution_count": null,
   "id": "3d239f43",
   "metadata": {},
   "outputs": [],
   "source": []
  }
 ],
 "metadata": {
  "kernelspec": {
   "display_name": "Python 3 (ipykernel)",
   "language": "python",
   "name": "python3"
  },
  "language_info": {
   "codemirror_mode": {
    "name": "ipython",
    "version": 3
   },
   "file_extension": ".py",
   "mimetype": "text/x-python",
   "name": "python",
   "nbconvert_exporter": "python",
   "pygments_lexer": "ipython3",
   "version": "3.9.12"
  }
 },
 "nbformat": 4,
 "nbformat_minor": 5
}
