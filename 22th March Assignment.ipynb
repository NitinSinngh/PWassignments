{
 "cells": [
  {
   "cell_type": "markdown",
   "id": "ad8f84da",
   "metadata": {},
   "source": [
    "Q1. Pearson correlation coefficient is a measure of the linear relationship between two variables. Suppose\n",
    "you have collected data on the amount of time students spend studying for an exam and their final exam\n",
    "scores. Calculate the Pearson correlation coefficient between these two variables and interpret the result.\n",
    "\n",
    "Ans. The Pearson correlation coefficient, denoted by \\(r\\), is a measure of the linear relationship between two variables. It ranges from -1 to 1, where:\n",
    "\n",
    "- \\(r = 1\\) indicates a perfect positive linear relationship,\n",
    "- \\(r = -1\\) indicates a perfect negative linear relationship,\n",
    "- \\(r = 0\\) indicates no linear relationship.\n",
    "\n",
    "\n",
    "**Example:**\n",
    "\n",
    "Suppose you collected data on the number of hours students spent studying (\\(X\\)) and their final exam scores (\\(Y\\)) for a sample of students:\n",
    "\n",
    "```plaintext\n",
    "| Hours Studied (X) | Exam Scores (Y) |\n",
    "|-------------------|------------------|\n",
    "| 10                | 75               |\n",
    "| 15                | 85               |\n",
    "| 20                | 90               |\n",
    "| 25                | 95               |\n",
    "| 30                | 80               |\n",
    "```\n",
    "\n",
    "\n",
    "\n",
    "\n",
    "\n",
    "\n",
    "\n"
   ]
  },
  {
   "cell_type": "code",
   "execution_count": 1,
   "id": "28622d8f",
   "metadata": {},
   "outputs": [
    {
     "name": "stdout",
     "output_type": "stream",
     "text": [
      "Pearson Correlation Coefficient (r): 0.4\n"
     ]
    }
   ],
   "source": [
    "import numpy as np\n",
    "\n",
    "# Sample Data\n",
    "X = np.array([10, 15, 20, 25, 30])\n",
    "Y = np.array([75, 85, 90, 95, 80])\n",
    "\n",
    "# Calculate means\n",
    "mean_X = np.mean(X)\n",
    "mean_Y = np.mean(Y)\n",
    "\n",
    "# Calculate Pearson correlation coefficient\n",
    "numerator = np.sum((X - mean_X) * (Y - mean_Y))\n",
    "denominator = np.sqrt(np.sum((X - mean_X)**2) * np.sum((Y - mean_Y)**2))\n",
    "r = numerator / denominator\n",
    "\n",
    "print(f\"Pearson Correlation Coefficient (r): {r}\")\n"
   ]
  },
  {
   "cell_type": "markdown",
   "id": "2b8d0d32",
   "metadata": {},
   "source": [
    "**Interpretation:**\n",
    "\n",
    "In this example, if the calculated \\(r\\) is positive, it suggests a positive linear relationship, meaning that as the number of hours spent studying increases, the final exam scores tend to increase. If \\(r\\) is negative, it suggests a negative linear relationship. If \\(r\\) is close to zero, it indicates a weak or no linear relationship. The sign and magnitude of \\(r\\) provide insights into the direction and strength of the linear relationship between the variables."
   ]
  },
  {
   "cell_type": "code",
   "execution_count": null,
   "id": "ac060420",
   "metadata": {},
   "outputs": [],
   "source": []
  },
  {
   "cell_type": "markdown",
   "id": "e41a3a5d",
   "metadata": {},
   "source": [
    "Q2. Spearman's rank correlation is a measure of the monotonic relationship between two variables.\n",
    "Suppose you have collected data on the amount of sleep individuals get each night and their overall job\n",
    "satisfaction level on a scale of 1 to 10. Calculate the Spearman's rank correlation between these two\n",
    "variables and interpret the result.\n",
    "\n",
    "Ans. Spearman's rank correlation coefficient, denoted by \\( \\rho \\) (rho), is a measure of the monotonic relationship between two variables. It assesses whether there is a consistent increase or decrease in one variable corresponding to an increase or decrease in the other variable. Spearman's rank correlation is based on the ranks of the data rather than the actual values.\n",
    "\n",
    "\n",
    "**Example:**\n",
    "\n",
    "Suppose you collected data on the amount of sleep individuals get each night (\\(X\\)) and their overall job satisfaction level on a scale of 1 to 10 (\\(Y\\)) for a sample of individuals:\n",
    "\n",
    "```plaintext\n",
    "| Sleep Hours (X) | Job Satisfaction (Y) |\n",
    "|------------------|-----------------------|\n",
    "| 7                | 8                     |\n",
    "| 6                | 5                     |\n",
    "| 8                | 9                     |\n",
    "| 5                | 3                     |\n",
    "| 7                | 7                     |\n",
    "\n",
    "\n"
   ]
  },
  {
   "cell_type": "code",
   "execution_count": 7,
   "id": "8790a9e7",
   "metadata": {},
   "outputs": [
    {
     "name": "stdout",
     "output_type": "stream",
     "text": [
      "Spearman's Rank Correlation Coefficient (rho): 0.9746794344808963\n"
     ]
    }
   ],
   "source": [
    "import numpy as np\n",
    "from scipy.stats import spearmanr\n",
    "\n",
    "# Sample Data\n",
    "X = np.array([7, 6, 8, 5, 7])\n",
    "Y = np.array([8, 5, 9, 3, 7])\n",
    "\n",
    "# Calculate Spearman's rank correlation coefficient\n",
    "rho, p_value = spearmanr(X, Y)\n",
    "\n",
    "print(f\"Spearman's Rank Correlation Coefficient (rho): {rho}\")\n"
   ]
  },
  {
   "cell_type": "code",
   "execution_count": null,
   "id": "5f1bb662",
   "metadata": {},
   "outputs": [],
   "source": []
  },
  {
   "cell_type": "markdown",
   "id": "e5ecd722",
   "metadata": {},
   "source": [
    "Q3. Suppose you are conducting a study to examine the relationship between the number of hours of\n",
    "exercise per week and body mass index (BMI) in a sample of adults. You collected data on both variables\n",
    "for 50 participants. Calculate the Pearson correlation coefficient and the Spearman's rank correlation\n",
    "between these two variables and compare the results.\n",
    "\n",
    "Ans. To calculate the Pearson correlation coefficient (\\(r\\)) and Spearman's rank correlation coefficient (\\(\\rho\\)), you can follow these steps:\n",
    "\n",
    "**Sample Data:**\n",
    "Let's assume you have the following data for the number of hours of exercise per week (\\(X\\)) and the body mass index (BMI) (\\(Y\\)) for 50 participants:\n",
    "\n",
    "```plaintext\n",
    "| Hours of Exercise (X) | BMI (Y)  |\n",
    "|-----------------------|----------|\n",
    "| 3                     | 24       |\n",
    "| 5                     | 22       |\n",
    "| 1                     | 26       |\n",
    "| 6                     | 21       |\n",
    "| 4                     | 23       |\n",
    "| ...                   | ...      |\n",
    "\n",
    "\n"
   ]
  },
  {
   "cell_type": "code",
   "execution_count": 3,
   "id": "56e004b5",
   "metadata": {},
   "outputs": [
    {
     "name": "stdout",
     "output_type": "stream",
     "text": [
      "Pearson Correlation Coefficient (r): 0.12138602559977776\n",
      "Spearman's Rank Correlation Coefficient (rho): 0.1360557912497069\n"
     ]
    }
   ],
   "source": [
    "import numpy as np\n",
    "from scipy.stats import pearsonr, spearmanr\n",
    "\n",
    "# Sample Data\n",
    "X = np.random.randint(1, 10, size=50)  # Replace with actual data\n",
    "Y = np.random.uniform(20, 30, size=50)  # Replace with actual data\n",
    "\n",
    "# Calculate Pearson correlation coefficient\n",
    "pearson_corr, _ = pearsonr(X, Y)\n",
    "\n",
    "# Calculate Spearman's rank correlation coefficient\n",
    "spearman_corr, _ = spearmanr(X, Y)\n",
    "\n",
    "print(f\"Pearson Correlation Coefficient (r): {pearson_corr}\")\n",
    "print(f\"Spearman's Rank Correlation Coefficient (rho): {spearman_corr}\")\n"
   ]
  },
  {
   "cell_type": "code",
   "execution_count": null,
   "id": "29cd4597",
   "metadata": {},
   "outputs": [],
   "source": []
  },
  {
   "cell_type": "code",
   "execution_count": null,
   "id": "5cf25d82",
   "metadata": {},
   "outputs": [],
   "source": []
  },
  {
   "cell_type": "markdown",
   "id": "3ad53185",
   "metadata": {},
   "source": [
    "Q4. A researcher is interested in examining the relationship between the number of hours individuals\n",
    "spend watching television per day and their level of physical activity. The researcher collected data on\n",
    "both variables from a sample of 50 participants. Calculate the Pearson correlation coefficient between\n",
    "these two variables.\n",
    "\n",
    "Ans. To calculate the Pearson correlation coefficient (\\( r \\)) between the number of hours individuals spend watching television per day and their level of physical activity, you can use the following steps:\n",
    "\n",
    "**Sample Data:**\n",
    "Assuming you have collected data on the number of hours of television watching (\\( X \\)) and the level of physical activity (\\( Y \\)) for 50 participants:\n",
    "\n",
    "```plaintext\n",
    "| Hours of TV (X) | Physical Activity (Y) |\n",
    "|------------------|------------------------|\n",
    "| 2                | 5                      |\n",
    "| 1                | 7                      |\n",
    "| 3                | 4                      |\n",
    "| 4                | 3                      |\n",
    "| 2                | 6                      |\n",
    "| ...              | ...                    |\n",
    "```\n",
    "\n"
   ]
  },
  {
   "cell_type": "code",
   "execution_count": 4,
   "id": "619549bf",
   "metadata": {},
   "outputs": [
    {
     "name": "stdout",
     "output_type": "stream",
     "text": [
      "Pearson Correlation Coefficient (r): -0.2013310375591204\n"
     ]
    }
   ],
   "source": [
    "import numpy as np\n",
    "from scipy.stats import pearsonr\n",
    "\n",
    "# Sample Data\n",
    "X = np.random.randint(1, 5, size=50)  # Replace with actual data (hours of TV watching)\n",
    "Y = np.random.randint(3, 8, size=50)  # Replace with actual data (physical activity level)\n",
    "\n",
    "# Calculate Pearson correlation coefficient\n",
    "pearson_corr, _ = pearsonr(X, Y)\n",
    "\n",
    "print(f\"Pearson Correlation Coefficient (r): {pearson_corr}\")\n"
   ]
  },
  {
   "cell_type": "markdown",
   "id": "d4b80b5d",
   "metadata": {},
   "source": [
    "\n",
    "Replace the placeholder data with your actual data for a meaningful analysis. The output will give you the Pearson correlation coefficient (\\( r \\)) that measures the strength and direction of the linear relationship between the number of hours individuals spend watching television and their level of physical activity.\n",
    "\n",
    "Interpretation:\n",
    "- If \\( r > 0 \\): Positive correlation (as one variable increases, the other tends to increase).\n",
    "- If \\( r < 0 \\): Negative correlation (as one variable increases, the other tends to decrease).\n",
    "- If \\( r = 0 \\): No linear correlation.\n"
   ]
  },
  {
   "cell_type": "code",
   "execution_count": null,
   "id": "04eb6756",
   "metadata": {},
   "outputs": [],
   "source": []
  },
  {
   "cell_type": "markdown",
   "id": "70350742",
   "metadata": {},
   "source": [
    "Q6. A company is interested in examining the relationship between the number of sales calls made per day\n",
    "and the number of sales made per week. The company collected data on both variables from a sample of\n",
    "30 sales representatives. Calculate the Pearson correlation coefficient between these two variables.\n",
    "\n",
    "Ans. To calculate the Pearson correlation coefficient (\\( r \\)) between the number of sales calls made per day and the number of sales made per week for a sample of 30 sales representatives, you can follow these steps:\n",
    "\n",
    "**Sample Data:**\n",
    "Assuming you have collected data on the number of sales calls made per day (\\( X \\)) and the number of sales made per week (\\( Y \\)):\n",
    "\n",
    "```plaintext\n",
    "| Sales Calls per Day (X) | Sales per Week (Y) |\n",
    "|--------------------------|---------------------|\n",
    "| 20                       | 100                 |\n",
    "| 25                       | 120                 |\n",
    "| 18                       | 90                  |\n",
    "| 30                       | 150                 |\n",
    "| ...                      | ...                 |\n",
    "\n",
    "\n",
    "\n"
   ]
  },
  {
   "cell_type": "code",
   "execution_count": 6,
   "id": "25673022",
   "metadata": {},
   "outputs": [
    {
     "name": "stdout",
     "output_type": "stream",
     "text": [
      "Pearson Correlation Coefficient (r): -0.14080372671830896\n"
     ]
    }
   ],
   "source": [
    "import numpy as np\n",
    "from scipy.stats import pearsonr\n",
    "\n",
    "# Sample Data\n",
    "X = np.random.randint(15, 35, size=30)  # Replace with actual data (sales calls per day)\n",
    "Y = np.random.randint(80, 160, size=30)  # Replace with actual data (sales per week)\n",
    "\n",
    "# Calculate Pearson correlation coefficient\n",
    "pearson_corr, _ = pearsonr(X, Y)\n",
    "\n",
    "print(f\"Pearson Correlation Coefficient (r): {pearson_corr}\")\n"
   ]
  },
  {
   "cell_type": "markdown",
   "id": "ae428aa8",
   "metadata": {},
   "source": [
    "Replace the placeholder data with your actual data for a meaningful analysis. The output will provide the Pearson correlation coefficient (\\( r \\)), indicating the strength and direction of the linear relationship between the number of sales calls made per day and the number of sales made per week.\n",
    "\n",
    "Interpretation:\n",
    "- If \\( r > 0 \\): Positive correlation (as the number of sales calls increases, the number of sales tends to increase).\n",
    "- If \\( r < 0 \\): Negative correlation (as the number of sales calls increases, the number of sales tends to decrease).\n",
    "- If \\( r = 0 \\): No linear correlation."
   ]
  },
  {
   "cell_type": "code",
   "execution_count": null,
   "id": "49ab0c42",
   "metadata": {},
   "outputs": [],
   "source": []
  }
 ],
 "metadata": {
  "kernelspec": {
   "display_name": "Python 3 (ipykernel)",
   "language": "python",
   "name": "python3"
  },
  "language_info": {
   "codemirror_mode": {
    "name": "ipython",
    "version": 3
   },
   "file_extension": ".py",
   "mimetype": "text/x-python",
   "name": "python",
   "nbconvert_exporter": "python",
   "pygments_lexer": "ipython3",
   "version": "3.10.2"
  }
 },
 "nbformat": 4,
 "nbformat_minor": 5
}
