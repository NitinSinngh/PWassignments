{
 "cells": [
  {
   "cell_type": "markdown",
   "id": "39889b3e",
   "metadata": {},
   "source": [
    "Consider the below code to answer further questions:\n",
    "\n",
    "import numpy as np\n",
    "\n",
    "list_ = [ ‘1’ , ’2’ , ‘3’ , ‘4’ , ‘5’ ]\n",
    "\n",
    "array_list = np.array(object = list_)"
   ]
  },
  {
   "cell_type": "markdown",
   "id": "a6067076",
   "metadata": {},
   "source": [
    "Q1. Is there any difference in the data type of variables list_ and array_list? If there is then write a code to print the data types of both the variables.\n",
    "\n",
    "Ans. Yes, there is a difference in the data type of variables list_ and array_list. The list_ variable is a Python list, while the array_list variable is a NumPy array.\n",
    "\n",
    "Here's the code to print the data types of both variables:"
   ]
  },
  {
   "cell_type": "code",
   "execution_count": 2,
   "id": "1f8266e3",
   "metadata": {},
   "outputs": [
    {
     "name": "stdout",
     "output_type": "stream",
     "text": [
      "Data type of list_: <class 'list'>\n",
      "Data type of array_list: <class 'numpy.ndarray'>\n"
     ]
    }
   ],
   "source": [
    "import numpy as np\n",
    "\n",
    "list_ = ['1', '2', '3', '4', '5']\n",
    "array_list = np.array(object=list_)\n",
    "\n",
    "print('Data type of list_:', type(list_))\n",
    "print('Data type of array_list:', type(array_list))\n"
   ]
  },
  {
   "cell_type": "markdown",
   "id": "91bbe801",
   "metadata": {},
   "source": [
    "Q2. Write a code to print the data type of each and every element of both the variables list_ and arra_list.\n"
   ]
  },
  {
   "cell_type": "code",
   "execution_count": 4,
   "id": "a8fb483c",
   "metadata": {},
   "outputs": [
    {
     "name": "stdout",
     "output_type": "stream",
     "text": [
      "Data type of element 1 in list_: <class 'str'>\n",
      "Data type of element 2 in list_: <class 'str'>\n",
      "Data type of element 3 in list_: <class 'str'>\n",
      "Data type of element 4 in list_: <class 'str'>\n",
      "Data type of element 5 in list_: <class 'str'>\n",
      "Data type of element 1 in array_list: <class 'numpy.str_'>\n",
      "Data type of element 2 in array_list: <class 'numpy.str_'>\n",
      "Data type of element 3 in array_list: <class 'numpy.str_'>\n",
      "Data type of element 4 in array_list: <class 'numpy.str_'>\n",
      "Data type of element 5 in array_list: <class 'numpy.str_'>\n"
     ]
    }
   ],
   "source": [
    "import numpy as np\n",
    "\n",
    "list_ = ['1', '2', '3', '4', '5']\n",
    "array_list = np.array(object=list_)\n",
    "\n",
    "# Data type of each element in list_\n",
    "for i in range(len(list_)):\n",
    "    print('Data type of element', i+1, 'in list_:', type(list_[i]))\n",
    "\n",
    "# Data type of each element in array_list\n",
    "for i in range(len(array_list)):\n",
    "    print('Data type of element', i+1, 'in array_list:', type(array_list[i]))\n"
   ]
  },
  {
   "cell_type": "markdown",
   "id": "6e4086f1",
   "metadata": {},
   "source": [
    "Q3. Considering the following changes in the variable, array_list:\n",
    "\n",
    "array_list = np.array(object = list_, dtype = int)\n",
    "\n",
    "Will there be any difference in the data type of the elements present in both the variables, list_ and\n",
    "arra_list? If so then print the data types of each and every element present in both the variables, list_\n",
    "and arra_list\n"
   ]
  },
  {
   "cell_type": "code",
   "execution_count": 5,
   "id": "6c5a54f0",
   "metadata": {},
   "outputs": [],
   "source": [
    "array_list = np.array(object = list_, dtype = int)"
   ]
  },
  {
   "cell_type": "markdown",
   "id": "6bd041a1",
   "metadata": {},
   "source": [
    "Yes, there will be a difference in the data type of the elements present in list_ and array_list. When we create the array_list with the dtype parameter set to int, all the elements in the list_ will be converted to integers.\n",
    "\n",
    "Here's the code to print the data type of each element in list_ and array_list after the modification:"
   ]
  },
  {
   "cell_type": "code",
   "execution_count": 6,
   "id": "53820bbb",
   "metadata": {
    "scrolled": false
   },
   "outputs": [
    {
     "name": "stdout",
     "output_type": "stream",
     "text": [
      "Data type of element 1 in list_: <class 'str'>\n",
      "Data type of element 2 in list_: <class 'str'>\n",
      "Data type of element 3 in list_: <class 'str'>\n",
      "Data type of element 4 in list_: <class 'str'>\n",
      "Data type of element 5 in list_: <class 'str'>\n",
      "Data type of element 1 in array_list: <class 'numpy.int32'>\n",
      "Data type of element 2 in array_list: <class 'numpy.int32'>\n",
      "Data type of element 3 in array_list: <class 'numpy.int32'>\n",
      "Data type of element 4 in array_list: <class 'numpy.int32'>\n",
      "Data type of element 5 in array_list: <class 'numpy.int32'>\n"
     ]
    }
   ],
   "source": [
    "import numpy as np\n",
    "\n",
    "list_ = ['1', '2', '3', '4', '5']\n",
    "array_list = np.array(object=list_, dtype=int)\n",
    "\n",
    "# Data type of each element in list_\n",
    "for i in range(len(list_)):\n",
    "    print('Data type of element', i+1, 'in list_:', type(list_[i]))\n",
    "\n",
    "# Data type of each element in array_list\n",
    "for i in range(len(array_list)):\n",
    "    print('Data type of element', i+1, 'in array_list:', type(array_list[i]))\n"
   ]
  },
  {
   "cell_type": "markdown",
   "id": "715b1357",
   "metadata": {},
   "source": [
    "Consider the below code to answer further questions:\n",
    "\n",
    "import numpy as np\n",
    "\n",
    "num_list = [ [ 1 , 2 , 3 ] , [ 4 , 5 , 6 ] ]\n",
    "\n",
    "num_array = np.array(object = num_list)\n",
    "\n",
    "Q4. Write a code to find the following characteristics of variable, num_array:\n",
    "\n",
    "(i) shape\n",
    "\n",
    "(ii) size\n",
    "\n"
   ]
  },
  {
   "cell_type": "code",
   "execution_count": 9,
   "id": "f48bab1c",
   "metadata": {},
   "outputs": [
    {
     "name": "stdout",
     "output_type": "stream",
     "text": [
      "Shape of num_array:  (2, 3)\n",
      "size of num_array:  6\n"
     ]
    }
   ],
   "source": [
    "import numpy as np\n",
    "\n",
    "num_list = [[1, 2, 3], [4, 5, 6]]\n",
    "\n",
    "num_array = np.array(num_list)\n",
    "\n",
    "# find the shape of num_array\n",
    "print(\"Shape of num_array: \", num_array.shape)\n",
    "\n",
    "# find the size of num_array\n",
    "print(\"size of num_array: \",num_array.size)"
   ]
  },
  {
   "cell_type": "markdown",
   "id": "0939a6b5",
   "metadata": {},
   "source": [
    "Q5. Write a code to create numpy array of 3*3 matrix containing zeros only, using a numpy array\n",
    "creation function.\n"
   ]
  },
  {
   "cell_type": "code",
   "execution_count": 10,
   "id": "0e6ccdee",
   "metadata": {},
   "outputs": [
    {
     "name": "stdout",
     "output_type": "stream",
     "text": [
      "[[0. 0. 0.]\n",
      " [0. 0. 0.]\n",
      " [0. 0. 0.]]\n"
     ]
    }
   ],
   "source": [
    "import numpy as np\n",
    "\n",
    "# create a numpy array of zeros with shape (3, 3)\n",
    "zeros_array = np.zeros((3, 3))\n",
    "\n",
    "print(zeros_array)\n"
   ]
  },
  {
   "cell_type": "markdown",
   "id": "44c768f1",
   "metadata": {},
   "source": [
    "Q6. Create an identity matrix of shape (5,5) using numpy functions?"
   ]
  },
  {
   "cell_type": "code",
   "execution_count": 11,
   "id": "b4a17e34",
   "metadata": {},
   "outputs": [
    {
     "name": "stdout",
     "output_type": "stream",
     "text": [
      "[[1. 0. 0. 0. 0.]\n",
      " [0. 1. 0. 0. 0.]\n",
      " [0. 0. 1. 0. 0.]\n",
      " [0. 0. 0. 1. 0.]\n",
      " [0. 0. 0. 0. 1.]]\n"
     ]
    }
   ],
   "source": [
    "import numpy as np\n",
    "\n",
    "# create an identity matrix of shape (5, 5)\n",
    "identity_matrix = np.eye(5)\n",
    "\n",
    "print(identity_matrix)\n"
   ]
  },
  {
   "cell_type": "code",
   "execution_count": null,
   "id": "36ef5c64",
   "metadata": {},
   "outputs": [],
   "source": []
  }
 ],
 "metadata": {
  "kernelspec": {
   "display_name": "Python 3 (ipykernel)",
   "language": "python",
   "name": "python3"
  },
  "language_info": {
   "codemirror_mode": {
    "name": "ipython",
    "version": 3
   },
   "file_extension": ".py",
   "mimetype": "text/x-python",
   "name": "python",
   "nbconvert_exporter": "python",
   "pygments_lexer": "ipython3",
   "version": "3.9.12"
  }
 },
 "nbformat": 4,
 "nbformat_minor": 5
}
