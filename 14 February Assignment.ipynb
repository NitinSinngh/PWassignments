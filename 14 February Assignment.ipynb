{
 "cells": [
  {
   "cell_type": "markdown",
   "id": "8f60df9e",
   "metadata": {},
   "source": [
    "Q1. What is multithreading in python? Why is it used? Name the module used to handle threads in python.\n",
    "\n",
    "Ans. Multithreading in Python is the process of running multiple threads of execution concurrently within a single process. Each thread can perform a separate task, allowing for concurrent execution of multiple tasks within the same program. Multithreading is used to improve the performance of a program by using multiple CPUs or CPU cores, to improve the overall efficiency of a program, and to improve input/output operations.\n",
    "\n",
    "The module used to handle threads in Python is the threading module. It provides a simple way to create and manage threads in Python, allowing developers to create and control threads, and synchronize their execution when necessary. The threading module provides several useful classes and functions for working with threads, including the Thread class for creating new threads, the Lock class for synchronizing access to shared resources, and the Semaphore class for controlling access to a limited number of resources.\n",
    "\n",
    "\n",
    "\n"
   ]
  },
  {
   "cell_type": "markdown",
   "id": "3b16a166",
   "metadata": {},
   "source": [
    "Q2. Why threading module used? Write the use of the following functions:\n",
    "1. activeCount()\n",
    "2. currentThread()\n",
    "3. enumerate()\n",
    "\n",
    "Ans. The threading module in Python is used to create, manage and synchronize threads in a multi-threaded program. It allows a program to run multiple threads concurrently within a single process.\n",
    "The main reasons for using multithreading in Python are:\n",
    "\n",
    "1. To improve the performance of a program by using multiple CPUs or CPU cores.\n",
    "2. To improve the overall efficiency of a program by using multiple CPUs or CPU cores.\n",
    "3. To improve the input/output operations of a program by using multiple CPUs or CPU cores.\n",
    "4. To handle multiple client requests simultaneously.\n",
    "\n",
    "#The following functions are used in the threading module:\n",
    "\n",
    "1. activeCount(): This function returns the number of thread objects that are active. An active thread is a thread that has been started and has not yet been stopped.\n",
    "\n",
    "2. currentThread(): This function returns a thread object that represents the current thread of execution. This can be used to obtain information about the current thread or to interact with it.\n",
    "\n",
    "3. enumerate(): This function returns a list of all thread objects that are currently active. It can be used to obtain information about all the active threads in a program."
   ]
  },
  {
   "cell_type": "markdown",
   "id": "32321e9f",
   "metadata": {},
   "source": [
    "Q3. Explain the following functions:\n",
    "1. run()\n",
    "2. start()\n",
    "3. join()\n",
    "4. isAlive()\n",
    "\n",
    "Ans.\n",
    "1. run():\n",
    "The run() method is the entry point for the thread. It defines the activity that the thread will perform when it is started. This method should be overridden when subclassing the Thread class.\n",
    "\n",
    "2. start():\n",
    "The start() method starts a thread by calling the run() method. When start() method is called, it creates a new thread and calls the run() method to start the thread execution. It is important to note that the start() method should only be called once for each thread.\n",
    "\n",
    "3. join():\n",
    "The join() method waits for the thread to finish its execution. It blocks the calling thread until the thread whose join() method is called is terminated. This method is useful when you want to ensure that a thread has completed its execution before the main program exits.\n",
    "\n",
    "4. isAlive():\n",
    "The isAlive() method returns a Boolean value that indicates whether the thread is currently executing or not. If the thread is currently executing, the method returns True, otherwise, it returns False. This method can be used to check whether a thread is still running or not."
   ]
  },
  {
   "cell_type": "markdown",
   "id": "8d92cdcd",
   "metadata": {},
   "source": [
    "Q4. Write a python program to create two threads. Thread one must print the list of squares and thread\n",
    "two must print the list of cubes."
   ]
  },
  {
   "cell_type": "code",
   "execution_count": 3,
   "id": "6588d5e9",
   "metadata": {},
   "outputs": [
    {
     "name": "stdout",
     "output_type": "stream",
     "text": [
      "1\n",
      "4\n",
      "9\n",
      "16\n",
      "25\n",
      "36\n",
      "49\n",
      "64\n",
      "81\n",
      "100\n",
      "1\n",
      "8\n",
      "27\n",
      "64\n",
      "125\n",
      "216\n",
      "343\n",
      "512\n",
      "729\n",
      "1000\n"
     ]
    }
   ],
   "source": [
    "import threading\n",
    "\n",
    "def print_squares():\n",
    "    for i in range(1, 11):\n",
    "        print(i*i)\n",
    "\n",
    "def print_cubes():\n",
    "    for i in range(1, 11):\n",
    "        print(i*i*i)\n",
    "\n",
    "t1 = threading.Thread(target=print_squares)\n",
    "t2 = threading.Thread(target=print_cubes)\n",
    "\n",
    "t1.start()\n",
    "t2.start()\n",
    "\n",
    "t1.join()\n",
    "t2.join()\n"
   ]
  },
  {
   "cell_type": "markdown",
   "id": "849d2071",
   "metadata": {},
   "source": [
    "Q5. State advantages and disadvantages of multithreading.\n",
    "\n",
    "Ans. \n",
    "Advantages of multithreading:\n",
    "\n",
    "1. Improved performance: Multithreading can improve the performance of a program by allowing multiple threads to execute simultaneously, thereby utilizing multiple cores of a CPU.\n",
    "\n",
    "2. Responsiveness: Multithreading can make a program more responsive by allowing it to continue executing other threads while a long-running task is being performed in another thread.\n",
    "\n",
    "3. Resource sharing: Multithreading allows multiple threads to share resources, such as memory and CPU time, which can result in better resource utilization.\n",
    "\n",
    "4. Simplified program structure: Multithreading can simplify the structure of a program by breaking it down into smaller, more manageable pieces that can be executed independently.\n",
    "\n",
    "Disadvantages of multithreading:\n",
    "\n",
    "1. Complexity: Multithreaded programs can be complex and difficult to develop, test, and debug.\n",
    "\n",
    "2. Synchronization: Multithreading can introduce synchronization problems when multiple threads access shared resources simultaneously, which can lead to race conditions and other issues.\n",
    "\n",
    "3. Overhead: Multithreading can introduce overhead in terms of memory usage and context switching, which can have a negative impact on performance.\n",
    "\n",
    "4. Deadlocks: Multithreading can introduce deadlocks, where multiple threads are blocked waiting for each other to release resources, which can result in a program that hangs or crashes.\n",
    "\n",
    "\n",
    "\n"
   ]
  },
  {
   "cell_type": "markdown",
   "id": "3d5aec98",
   "metadata": {},
   "source": [
    "Q6. Explain deadlocks and race conditions.\n",
    "\n",
    "Ans. Deadlock and race condition are two common problems that can occur in multithreaded programming.\n",
    "\n",
    "Deadlock occurs when two or more threads are blocked, waiting for each other to release resources that they need to proceed. This leads to a situation where none of the threads can proceed and the program hangs. Deadlock can occur when multiple threads are competing for limited resources, and each thread holds on to the resources it has while waiting for the others to release the resources they need.\n",
    "\n",
    "On the other hand, race condition occurs when two or more threads access a shared resource or variable at the same time, and the final value of the resource or variable depends on the order in which the threads execute. This can lead to unpredictable behavior and errors in the program. Race conditions can occur when multiple threads are trying to modify the same resource, and the order of execution is not deterministic.\n",
    "\n",
    "Both deadlock and race condition are problems that can be difficult to detect and debug, and can lead to serious issues in a multithreaded program. It is important to design the program in such a way that these problems are avoided, and to use synchronization primitives like locks and semaphores to manage access to shared resources."
   ]
  },
  {
   "cell_type": "code",
   "execution_count": null,
   "id": "a9d30f38",
   "metadata": {},
   "outputs": [],
   "source": []
  }
 ],
 "metadata": {
  "kernelspec": {
   "display_name": "Python 3 (ipykernel)",
   "language": "python",
   "name": "python3"
  },
  "language_info": {
   "codemirror_mode": {
    "name": "ipython",
    "version": 3
   },
   "file_extension": ".py",
   "mimetype": "text/x-python",
   "name": "python",
   "nbconvert_exporter": "python",
   "pygments_lexer": "ipython3",
   "version": "3.9.12"
  }
 },
 "nbformat": 4,
 "nbformat_minor": 5
}
