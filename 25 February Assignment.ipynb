{
 "cells": [
  {
   "cell_type": "markdown",
   "id": "dab611a6",
   "metadata": {},
   "source": [
    "Consider following code to answer further questions:"
   ]
  },
  {
   "cell_type": "code",
   "execution_count": 3,
   "id": "414d364f",
   "metadata": {},
   "outputs": [
    {
     "data": {
      "text/html": [
       "<div>\n",
       "<style scoped>\n",
       "    .dataframe tbody tr th:only-of-type {\n",
       "        vertical-align: middle;\n",
       "    }\n",
       "\n",
       "    .dataframe tbody tr th {\n",
       "        vertical-align: top;\n",
       "    }\n",
       "\n",
       "    .dataframe thead th {\n",
       "        text-align: right;\n",
       "    }\n",
       "</style>\n",
       "<table border=\"1\" class=\"dataframe\">\n",
       "  <thead>\n",
       "    <tr style=\"text-align: right;\">\n",
       "      <th></th>\n",
       "      <th>course_name</th>\n",
       "      <th>duration</th>\n",
       "    </tr>\n",
       "  </thead>\n",
       "  <tbody>\n",
       "    <tr>\n",
       "      <th>0</th>\n",
       "      <td>Data Science</td>\n",
       "      <td>2</td>\n",
       "    </tr>\n",
       "    <tr>\n",
       "      <th>1</th>\n",
       "      <td>Machine Learning</td>\n",
       "      <td>3</td>\n",
       "    </tr>\n",
       "    <tr>\n",
       "      <th>2</th>\n",
       "      <td>Big Data</td>\n",
       "      <td>6</td>\n",
       "    </tr>\n",
       "    <tr>\n",
       "      <th>3</th>\n",
       "      <td>Data Engineer</td>\n",
       "      <td>4</td>\n",
       "    </tr>\n",
       "  </tbody>\n",
       "</table>\n",
       "</div>"
      ],
      "text/plain": [
       "        course_name  duration\n",
       "0      Data Science         2\n",
       "1  Machine Learning         3\n",
       "2          Big Data         6\n",
       "3     Data Engineer         4"
      ]
     },
     "execution_count": 3,
     "metadata": {},
     "output_type": "execute_result"
    }
   ],
   "source": [
    "import pandas as pd\n",
    "\n",
    "course_name = ['Data Science', 'Machine Learning', 'Big Data', 'Data Engineer']\n",
    "\n",
    "duration = [2,3,6,4]\n",
    "\n",
    "df = pd.DataFrame(data = {'course_name' : course_name, 'duration' : duration})\n",
    "df\n"
   ]
  },
  {
   "cell_type": "markdown",
   "id": "452ed635",
   "metadata": {},
   "source": [
    "Q1. Write a code to print the data present in the second row of the dataframe, df."
   ]
  },
  {
   "cell_type": "code",
   "execution_count": 31,
   "id": "380dfbe6",
   "metadata": {},
   "outputs": [
    {
     "data": {
      "text/html": [
       "<div>\n",
       "<style scoped>\n",
       "    .dataframe tbody tr th:only-of-type {\n",
       "        vertical-align: middle;\n",
       "    }\n",
       "\n",
       "    .dataframe tbody tr th {\n",
       "        vertical-align: top;\n",
       "    }\n",
       "\n",
       "    .dataframe thead th {\n",
       "        text-align: right;\n",
       "    }\n",
       "</style>\n",
       "<table border=\"1\" class=\"dataframe\">\n",
       "  <thead>\n",
       "    <tr style=\"text-align: right;\">\n",
       "      <th></th>\n",
       "      <th>course_name</th>\n",
       "      <th>duration</th>\n",
       "    </tr>\n",
       "  </thead>\n",
       "  <tbody>\n",
       "    <tr>\n",
       "      <th>1</th>\n",
       "      <td>Machine Learning</td>\n",
       "      <td>3</td>\n",
       "    </tr>\n",
       "  </tbody>\n",
       "</table>\n",
       "</div>"
      ],
      "text/plain": [
       "        course_name  duration\n",
       "1  Machine Learning         3"
      ]
     },
     "execution_count": 31,
     "metadata": {},
     "output_type": "execute_result"
    }
   ],
   "source": [
    "df[1:2]"
   ]
  },
  {
   "cell_type": "markdown",
   "id": "a8a7c7c7",
   "metadata": {},
   "source": [
    "Q2. What is the difference between the functions loc and iloc in pandas.DataFrame?\n",
    "\n",
    "Ans. In Pandas DataFrame, loc and iloc are two indexing functions that are used to access subsets of data based on labels (index or column names) and integer position, respectively. The main differences between the two functions are as follows:\n",
    "\n",
    "1. loc is a label-based indexing function, which means that it uses the labels of rows and columns to access the data, while iloc is an integer-based indexing function that uses integer positions to access the data.\n",
    "\n",
    "2. When using loc, the start and stop indices/labels in a slice are inclusive, while in iloc, the stop index is exclusive. For example, df.loc[2:5, 'A':'C'] would include rows 2, 3, 4, and 5, and columns 'A', 'B', and 'C'. On the other hand, df.iloc[2:5, 0:3] would include rows 2, 3, and 4, and columns 0, 1, and 2 (assuming column 0 is the first column).\n",
    "\n",
    "3. loc allows for both label-based indexing and Boolean indexing (i.e., using True/False masks to select data), while iloc only allows for integer-based indexing and Boolean indexing.\n",
    "\n",
    "4. When using loc, if a label is not present in the index or column, a KeyError will be raised, while in iloc, an IndexError will be raised if the index is out of bounds.\n",
    "\n",
    "In summary, the main difference between loc and iloc is the way they index the data: loc uses labels, while iloc uses integer positions."
   ]
  },
  {
   "cell_type": "markdown",
   "id": "6046067f",
   "metadata": {},
   "source": [
    "Q3. Reindex the given dataframe using a variable, reindex = [3,0,1,2] and store it in the variable, new_df\n",
    "then find the output for both new_df.loc[2] and new_df.iloc[2].\n",
    "Did you observe any difference in both the outputs? If so then explain it.\n"
   ]
  },
  {
   "cell_type": "code",
   "execution_count": 39,
   "id": "066d0c0c",
   "metadata": {},
   "outputs": [
    {
     "data": {
      "text/html": [
       "<div>\n",
       "<style scoped>\n",
       "    .dataframe tbody tr th:only-of-type {\n",
       "        vertical-align: middle;\n",
       "    }\n",
       "\n",
       "    .dataframe tbody tr th {\n",
       "        vertical-align: top;\n",
       "    }\n",
       "\n",
       "    .dataframe thead th {\n",
       "        text-align: right;\n",
       "    }\n",
       "</style>\n",
       "<table border=\"1\" class=\"dataframe\">\n",
       "  <thead>\n",
       "    <tr style=\"text-align: right;\">\n",
       "      <th></th>\n",
       "      <th>course_name</th>\n",
       "      <th>duration</th>\n",
       "    </tr>\n",
       "  </thead>\n",
       "  <tbody>\n",
       "    <tr>\n",
       "      <th>3</th>\n",
       "      <td>Data Engineer</td>\n",
       "      <td>4</td>\n",
       "    </tr>\n",
       "    <tr>\n",
       "      <th>0</th>\n",
       "      <td>Data Science</td>\n",
       "      <td>2</td>\n",
       "    </tr>\n",
       "    <tr>\n",
       "      <th>1</th>\n",
       "      <td>Machine Learning</td>\n",
       "      <td>3</td>\n",
       "    </tr>\n",
       "    <tr>\n",
       "      <th>2</th>\n",
       "      <td>Big Data</td>\n",
       "      <td>6</td>\n",
       "    </tr>\n",
       "  </tbody>\n",
       "</table>\n",
       "</div>"
      ],
      "text/plain": [
       "        course_name  duration\n",
       "3     Data Engineer         4\n",
       "0      Data Science         2\n",
       "1  Machine Learning         3\n",
       "2          Big Data         6"
      ]
     },
     "execution_count": 39,
     "metadata": {},
     "output_type": "execute_result"
    }
   ],
   "source": [
    "new_df=df.reindex([3,0,1,2])\n",
    "new_df"
   ]
  },
  {
   "cell_type": "code",
   "execution_count": 43,
   "id": "9c0793d6",
   "metadata": {},
   "outputs": [
    {
     "data": {
      "text/plain": [
       "course_name    Big Data\n",
       "duration              6\n",
       "Name: 2, dtype: object"
      ]
     },
     "execution_count": 43,
     "metadata": {},
     "output_type": "execute_result"
    }
   ],
   "source": [
    "new_df.loc[2]"
   ]
  },
  {
   "cell_type": "code",
   "execution_count": 41,
   "id": "e90e7dc9",
   "metadata": {},
   "outputs": [
    {
     "data": {
      "text/plain": [
       "course_name    Machine Learning\n",
       "duration                      3\n",
       "Name: 1, dtype: object"
      ]
     },
     "execution_count": 41,
     "metadata": {},
     "output_type": "execute_result"
    }
   ],
   "source": [
    "new_df.iloc[2]"
   ]
  },
  {
   "cell_type": "markdown",
   "id": "8aed33e9",
   "metadata": {},
   "source": [
    "new_df.loc[2] selects the row with label/index 2, which is the row containing the course name 'Big Data'. On the other hand, new_df.iloc[2] selects the row at integer location 2, which is the row containing the course name 'Machine Learning'.\n",
    "\n",
    "Therefore, the main difference between loc and iloc is that loc is used for label-based indexing while iloc is used for integer-based indexing."
   ]
  },
  {
   "cell_type": "code",
   "execution_count": null,
   "id": "eca4e47f",
   "metadata": {},
   "outputs": [],
   "source": []
  },
  {
   "cell_type": "markdown",
   "id": "ae433cb9",
   "metadata": {},
   "source": [
    "Consider the below code to answer further questions:"
   ]
  },
  {
   "cell_type": "code",
   "execution_count": 46,
   "id": "7791f70a",
   "metadata": {},
   "outputs": [
    {
     "data": {
      "text/html": [
       "<div>\n",
       "<style scoped>\n",
       "    .dataframe tbody tr th:only-of-type {\n",
       "        vertical-align: middle;\n",
       "    }\n",
       "\n",
       "    .dataframe tbody tr th {\n",
       "        vertical-align: top;\n",
       "    }\n",
       "\n",
       "    .dataframe thead th {\n",
       "        text-align: right;\n",
       "    }\n",
       "</style>\n",
       "<table border=\"1\" class=\"dataframe\">\n",
       "  <thead>\n",
       "    <tr style=\"text-align: right;\">\n",
       "      <th></th>\n",
       "      <th>column_1</th>\n",
       "      <th>column_2</th>\n",
       "      <th>column_3</th>\n",
       "      <th>column_4</th>\n",
       "      <th>column_5</th>\n",
       "      <th>column_6</th>\n",
       "    </tr>\n",
       "  </thead>\n",
       "  <tbody>\n",
       "    <tr>\n",
       "      <th>1</th>\n",
       "      <td>0.802111</td>\n",
       "      <td>0.746375</td>\n",
       "      <td>0.118882</td>\n",
       "      <td>0.041974</td>\n",
       "      <td>0.914167</td>\n",
       "      <td>0.869846</td>\n",
       "    </tr>\n",
       "    <tr>\n",
       "      <th>2</th>\n",
       "      <td>0.125242</td>\n",
       "      <td>0.393878</td>\n",
       "      <td>0.934286</td>\n",
       "      <td>0.162142</td>\n",
       "      <td>0.613080</td>\n",
       "      <td>0.161951</td>\n",
       "    </tr>\n",
       "    <tr>\n",
       "      <th>3</th>\n",
       "      <td>0.252173</td>\n",
       "      <td>0.673504</td>\n",
       "      <td>0.458480</td>\n",
       "      <td>0.830002</td>\n",
       "      <td>0.632972</td>\n",
       "      <td>0.761560</td>\n",
       "    </tr>\n",
       "    <tr>\n",
       "      <th>4</th>\n",
       "      <td>0.685038</td>\n",
       "      <td>0.356440</td>\n",
       "      <td>0.176682</td>\n",
       "      <td>0.200444</td>\n",
       "      <td>0.972054</td>\n",
       "      <td>0.291314</td>\n",
       "    </tr>\n",
       "    <tr>\n",
       "      <th>5</th>\n",
       "      <td>0.724828</td>\n",
       "      <td>0.482668</td>\n",
       "      <td>0.363592</td>\n",
       "      <td>0.551844</td>\n",
       "      <td>0.750525</td>\n",
       "      <td>0.581166</td>\n",
       "    </tr>\n",
       "    <tr>\n",
       "      <th>6</th>\n",
       "      <td>0.956767</td>\n",
       "      <td>0.554458</td>\n",
       "      <td>0.103343</td>\n",
       "      <td>0.675220</td>\n",
       "      <td>0.320657</td>\n",
       "      <td>0.350251</td>\n",
       "    </tr>\n",
       "  </tbody>\n",
       "</table>\n",
       "</div>"
      ],
      "text/plain": [
       "   column_1  column_2  column_3  column_4  column_5  column_6\n",
       "1  0.802111  0.746375  0.118882  0.041974  0.914167  0.869846\n",
       "2  0.125242  0.393878  0.934286  0.162142  0.613080  0.161951\n",
       "3  0.252173  0.673504  0.458480  0.830002  0.632972  0.761560\n",
       "4  0.685038  0.356440  0.176682  0.200444  0.972054  0.291314\n",
       "5  0.724828  0.482668  0.363592  0.551844  0.750525  0.581166\n",
       "6  0.956767  0.554458  0.103343  0.675220  0.320657  0.350251"
      ]
     },
     "execution_count": 46,
     "metadata": {},
     "output_type": "execute_result"
    }
   ],
   "source": [
    "import pandas as pd\n",
    "\n",
    "import numpy as np\n",
    "\n",
    "columns = ['column_1', 'column_2', 'column_3', 'column_4', 'column_5', 'column_6']\n",
    "\n",
    "indices = [1,2,3,4,5,6]\n",
    "\n",
    "#Creating a dataframe:\n",
    "\n",
    "df1 = pd.DataFrame(np.random.rand(6,6), columns = columns, index = indices)\n",
    "df1"
   ]
  },
  {
   "cell_type": "markdown",
   "id": "d551775e",
   "metadata": {},
   "source": [
    "Q4. Write a code to find the following statistical measurements for the above dataframe df1:\n",
    "\n",
    "(i) mean of each and every column present in the dataframe.\n",
    "\n",
    "(ii) standard deviation of column, ‘column_2’\n"
   ]
  },
  {
   "cell_type": "code",
   "execution_count": 51,
   "id": "6c542ead",
   "metadata": {},
   "outputs": [
    {
     "name": "stdout",
     "output_type": "stream",
     "text": [
      "Mean of each column:\n",
      " column_1    0.591026\n",
      "column_2    0.534554\n",
      "column_3    0.359211\n",
      "column_4    0.410271\n",
      "column_5    0.700576\n",
      "column_6    0.502681\n",
      "dtype: float64\n"
     ]
    }
   ],
   "source": [
    "col_means = df1.mean()\n",
    "print(\"Mean of each column:\\n\", col_means)\n"
   ]
  },
  {
   "cell_type": "code",
   "execution_count": 52,
   "id": "3f3cb80d",
   "metadata": {},
   "outputs": [
    {
     "name": "stdout",
     "output_type": "stream",
     "text": [
      "Standard deviation of 'column_2':\n",
      " 0.154128473385238\n"
     ]
    }
   ],
   "source": [
    "col2_std = df1['column_2'].std()\n",
    "print(\"Standard deviation of 'column_2':\\n\", col2_std)"
   ]
  },
  {
   "cell_type": "markdown",
   "id": "77391dfe",
   "metadata": {},
   "source": [
    "Q5. Replace the data present in the second row of column, ‘column_2’ by a string variable then find the\n",
    "mean of column, column_2.\n",
    "\n",
    "If you are getting errors in executing it then explain why.\n"
   ]
  },
  {
   "cell_type": "code",
   "execution_count": 59,
   "id": "38998f04",
   "metadata": {},
   "outputs": [
    {
     "data": {
      "text/html": [
       "<div>\n",
       "<style scoped>\n",
       "    .dataframe tbody tr th:only-of-type {\n",
       "        vertical-align: middle;\n",
       "    }\n",
       "\n",
       "    .dataframe tbody tr th {\n",
       "        vertical-align: top;\n",
       "    }\n",
       "\n",
       "    .dataframe thead th {\n",
       "        text-align: right;\n",
       "    }\n",
       "</style>\n",
       "<table border=\"1\" class=\"dataframe\">\n",
       "  <thead>\n",
       "    <tr style=\"text-align: right;\">\n",
       "      <th></th>\n",
       "      <th>column_1</th>\n",
       "      <th>column_2</th>\n",
       "      <th>column_3</th>\n",
       "      <th>column_4</th>\n",
       "      <th>column_5</th>\n",
       "      <th>column_6</th>\n",
       "    </tr>\n",
       "  </thead>\n",
       "  <tbody>\n",
       "    <tr>\n",
       "      <th>1</th>\n",
       "      <td>0.802111</td>\n",
       "      <td>0.746375</td>\n",
       "      <td>0.118882</td>\n",
       "      <td>0.041974</td>\n",
       "      <td>0.914167</td>\n",
       "      <td>0.869846</td>\n",
       "    </tr>\n",
       "    <tr>\n",
       "      <th>2</th>\n",
       "      <td>0.125242</td>\n",
       "      <td>jatin</td>\n",
       "      <td>0.934286</td>\n",
       "      <td>0.162142</td>\n",
       "      <td>0.613080</td>\n",
       "      <td>0.161951</td>\n",
       "    </tr>\n",
       "    <tr>\n",
       "      <th>3</th>\n",
       "      <td>0.252173</td>\n",
       "      <td>0.673504</td>\n",
       "      <td>0.458480</td>\n",
       "      <td>0.830002</td>\n",
       "      <td>0.632972</td>\n",
       "      <td>0.761560</td>\n",
       "    </tr>\n",
       "    <tr>\n",
       "      <th>4</th>\n",
       "      <td>0.685038</td>\n",
       "      <td>0.35644</td>\n",
       "      <td>0.176682</td>\n",
       "      <td>0.200444</td>\n",
       "      <td>0.972054</td>\n",
       "      <td>0.291314</td>\n",
       "    </tr>\n",
       "    <tr>\n",
       "      <th>5</th>\n",
       "      <td>0.724828</td>\n",
       "      <td>0.482668</td>\n",
       "      <td>0.363592</td>\n",
       "      <td>0.551844</td>\n",
       "      <td>0.750525</td>\n",
       "      <td>0.581166</td>\n",
       "    </tr>\n",
       "    <tr>\n",
       "      <th>6</th>\n",
       "      <td>0.956767</td>\n",
       "      <td>0.554458</td>\n",
       "      <td>0.103343</td>\n",
       "      <td>0.675220</td>\n",
       "      <td>0.320657</td>\n",
       "      <td>0.350251</td>\n",
       "    </tr>\n",
       "  </tbody>\n",
       "</table>\n",
       "</div>"
      ],
      "text/plain": [
       "   column_1  column_2  column_3  column_4  column_5  column_6\n",
       "1  0.802111  0.746375  0.118882  0.041974  0.914167  0.869846\n",
       "2  0.125242     jatin  0.934286  0.162142  0.613080  0.161951\n",
       "3  0.252173  0.673504  0.458480  0.830002  0.632972  0.761560\n",
       "4  0.685038   0.35644  0.176682  0.200444  0.972054  0.291314\n",
       "5  0.724828  0.482668  0.363592  0.551844  0.750525  0.581166\n",
       "6  0.956767  0.554458  0.103343  0.675220  0.320657  0.350251"
      ]
     },
     "execution_count": 59,
     "metadata": {},
     "output_type": "execute_result"
    }
   ],
   "source": [
    "df1.iloc[1:2,1:2]='jatin'\n",
    "df1"
   ]
  },
  {
   "cell_type": "code",
   "execution_count": 60,
   "id": "8a1f76e8",
   "metadata": {},
   "outputs": [
    {
     "name": "stderr",
     "output_type": "stream",
     "text": [
      "C:\\Users\\jatin\\AppData\\Local\\Temp\\ipykernel_18472\\2053335143.py:1: FutureWarning: Dropping of nuisance columns in DataFrame reductions (with 'numeric_only=None') is deprecated; in a future version this will raise TypeError.  Select only valid columns before calling the reduction.\n",
      "  df1.mean()\n"
     ]
    },
    {
     "data": {
      "text/plain": [
       "column_1    0.591026\n",
       "column_3    0.359211\n",
       "column_4    0.410271\n",
       "column_5    0.700576\n",
       "column_6    0.502681\n",
       "dtype: float64"
      ]
     },
     "execution_count": 60,
     "metadata": {},
     "output_type": "execute_result"
    }
   ],
   "source": [
    "df1.mean()"
   ]
  },
  {
   "cell_type": "markdown",
   "id": "d479e0cc",
   "metadata": {},
   "source": [
    "If we replace the data present in the second row of column 'column_2' with a string variable, we cannot find the mean of column 'column_2' because it contains non-numeric values. We need to ensure that all the values in the column are of the same datatype, preferably numeric, to calculate its mean.\n",
    "\n",
    "If we attempt to calculate the mean of 'column_2' after replacing a value with a string, we will get a TypeError since pandas cannot calculate the mean of a column containing both numeric and non-numeric values.\n",
    "\n"
   ]
  },
  {
   "cell_type": "markdown",
   "id": "03bed0ce",
   "metadata": {},
   "source": [
    "Q6. What do you understand about the windows function in pandas and list the types of windows functions?\n",
    "\n",
    "Ans. In pandas, a window function is a function that operates on a set of N consecutive rows (called a window) in a DataFrame or a Series. The result of a window function is a new DataFrame or Series with the same index as the original, but with the values replaced by the result of the function.\n",
    "\n",
    "There are several types of window functions available in pandas:\n",
    "\n",
    "1. Rolling window functions: These functions operate on a fixed-size window of the DataFrame or Series and slide the window one row at a time. Examples include rolling sum, rolling mean, and rolling standard deviation.\n",
    "\n",
    "2. Expanding window functions: These functions operate on a growing window of the DataFrame or Series and include all the rows from the beginning up to the current row. Examples include expanding sum, expanding mean, and expanding maximum.\n",
    "\n",
    "3. Exponential weighted window functions: These functions apply a weight to each row in the window based on its distance from the current row, with closer rows having a higher weight. Examples include exponential moving average and exponential standard deviation.\n",
    "\n",
    "4. Aggregating window functions: These functions compute an aggregation on a sliding or expanding window. Examples include sum, mean, count, and max.\n",
    "\n",
    "Window functions are useful for analyzing time series data or any other data where the values of a variable are dependent on its past values."
   ]
  },
  {
   "cell_type": "markdown",
   "id": "32db9dd0",
   "metadata": {},
   "source": [
    "Q7. Write a code to print only the current month and year at the time of answering this question.\n"
   ]
  },
  {
   "cell_type": "code",
   "execution_count": 66,
   "id": "bcf04502",
   "metadata": {},
   "outputs": [
    {
     "name": "stdout",
     "output_type": "stream",
     "text": [
      "March 2023\n"
     ]
    }
   ],
   "source": [
    "import datetime\n",
    "\n",
    "# Get the current date\n",
    "today = datetime.date.today()\n",
    "\n",
    "# Print the current month and year\n",
    "print(today.strftime('%B %Y'))\n",
    "\n"
   ]
  },
  {
   "cell_type": "markdown",
   "id": "ff3977b7",
   "metadata": {},
   "source": [
    "Q8. Write a Python program that takes in two dates as input (in the format YYYY-MM-DD) and\n",
    "calculates the difference between them in days, hours, and minutes using Pandas time delta. The\n",
    "program should prompt the user to enter the dates and display the result."
   ]
  },
  {
   "cell_type": "code",
   "execution_count": 67,
   "id": "f7f9a03a",
   "metadata": {},
   "outputs": [
    {
     "name": "stdout",
     "output_type": "stream",
     "text": [
      "Enter first date in YYYY-MM-DD format: 2023-01-01\n",
      "Enter second date in YYYY-MM-DD format: 2023-02-01\n",
      "The time difference between the two dates is:\n",
      "31 days\n",
      "0 hours\n",
      "0 minutes\n"
     ]
    }
   ],
   "source": [
    "import pandas as pd\n",
    "\n",
    "# Get input from user\n",
    "date1 = input(\"Enter first date in YYYY-MM-DD format: \")\n",
    "date2 = input(\"Enter second date in YYYY-MM-DD format: \")\n",
    "\n",
    "# Convert input strings to datetime objects\n",
    "date1 = pd.to_datetime(date1)\n",
    "date2 = pd.to_datetime(date2)\n",
    "\n",
    "# Calculate the time difference between the two dates\n",
    "delta = date2 - date1\n",
    "\n",
    "# Print the result\n",
    "print(\"The time difference between the two dates is:\")\n",
    "print(delta.days, \"days\")\n",
    "print(delta.seconds // 3600, \"hours\")\n",
    "print((delta.seconds % 3600) // 60, \"minutes\")\n"
   ]
  },
  {
   "cell_type": "markdown",
   "id": "899b64a5",
   "metadata": {},
   "source": [
    "Q9. Write a Python program that reads a CSV file containing categorical data and converts a specified\n",
    "column to a categorical data type. The program should prompt the user to enter the file path, column\n",
    "name, and category order, and then display the sorted data.\n"
   ]
  },
  {
   "cell_type": "code",
   "execution_count": 86,
   "id": "6272abbf",
   "metadata": {},
   "outputs": [
    {
     "name": "stdout",
     "output_type": "stream",
     "text": [
      "Enter the file path: C:\\Users\\jatin\\Desktop\\\\Data\\tips.csv\n",
      "Enter the column name: sex\n",
      "Enter the category order (comma-separated): Male,Female\n",
      "     total_bill   tip     sex smoker   day    time  size\n",
      "89        21.16  3.00    Male     No  Thur   Lunch     2\n",
      "110       14.00  3.00    Male     No   Sat  Dinner     2\n",
      "210       30.06  2.00    Male    Yes   Sat  Dinner     3\n",
      "112       38.07  4.00    Male     No   Sun  Dinner     3\n",
      "113       23.95  2.55    Male     No   Sun  Dinner     2\n",
      "..          ...   ...     ...    ...   ...     ...   ...\n",
      "117       10.65  1.50  Female     No  Thur   Lunch     2\n",
      "115       17.31  3.50  Female     No   Sun  Dinner     2\n",
      "114       25.71  4.00  Female     No   Sun  Dinner     3\n",
      "178        9.60  4.00  Female    Yes   Sun  Dinner     2\n",
      "243       18.78  3.00  Female     No  Thur  Dinner     2\n",
      "\n",
      "[244 rows x 7 columns]\n"
     ]
    }
   ],
   "source": [
    "import pandas as pd\n",
    "\n",
    "# Prompt the user to enter the file path, column name, and category order\n",
    "file_path = input(\"Enter the file path: \")\n",
    "col_name = input(\"Enter the column name: \")\n",
    "cat_order = input(\"Enter the category order (comma-separated): \").split(',')\n",
    "\n",
    "# Read the CSV file\n",
    "df = pd.read_csv(file_path)\n",
    "\n",
    "# Convert the specified column to a categorical data type\n",
    "df[col_name] = pd.Categorical(df[col_name], categories=cat_order, ordered=True)\n",
    "\n",
    "# Display the sorted data\n",
    "sorted_df = df.sort_values(col_name)\n",
    "print(sorted_df)\n"
   ]
  },
  {
   "cell_type": "markdown",
   "id": "5042cc8b",
   "metadata": {},
   "source": [
    "Q10. Write a Python program that reads a CSV file containing sales data for different products and\n",
    "visualizes the data using a stacked bar chart to show the sales of each product category over time. The\n",
    "program should prompt the user to enter the file path and display the chart.\n"
   ]
  },
  {
   "cell_type": "code",
   "execution_count": 123,
   "id": "12d84f9c",
   "metadata": {},
   "outputs": [
    {
     "name": "stdout",
     "output_type": "stream",
     "text": [
      "Enter the file path: C:\\Users\\jatin\\Desktop\\Data\\sales.csv\n"
     ]
    },
    {
     "data": {
      "image/png": "[encoded data removed]",
      "text/plain": [
       "<Figure size 800x600 with 1 Axes>"
      ]
     },
     "metadata": {},
     "output_type": "display_data"
    }
   ],
   "source": [
    "file_path = input(\"Enter the file path: \")\n",
    "df = pd.read_csv(file_path)\n",
    "import pandas as pd\n",
    "import matplotlib.pyplot as plt\n",
    "\n",
    "# Set the 'Product' column as the index\n",
    "df.set_index('Product', inplace=True)\n",
    "\n",
    "# Create a stacked bar chart\n",
    "ax = df.plot(kind='bar', stacked=True, figsize=(8, 6))\n",
    "\n",
    "# Set the title and axis labels\n",
    "ax.set_title('Sales by Product Category')\n",
    "ax.set_xlabel('Product')\n",
    "ax.set_ylabel('Sales')\n",
    "\n",
    "# Show the chart\n",
    "plt.show()"
   ]
  },
  {
   "cell_type": "markdown",
   "id": "d58c5bed",
   "metadata": {},
   "source": [
    "Q11. You are given a CSV file containing student data that includes the student ID and their test score. Write\n",
    "a Python program that reads the CSV file, calculates the mean, median, and mode of the test scores, and\n",
    "displays the results in a table.\n",
    "\n",
    "The program should do the following:\n",
    "\n",
    "1. Prompt the user to enter the file path of the CSV file containing the student data.\n",
    "2. Read the CSV file into a Pandas DataFrame.\n",
    "3. Calculate the mean, median, and mode of the test scores using Pandas tools.\n",
    "4. Display the mean, median, and mode in a table."
   ]
  },
  {
   "cell_type": "code",
   "execution_count": 125,
   "id": "5a915e56",
   "metadata": {},
   "outputs": [
    {
     "name": "stdout",
     "output_type": "stream",
     "text": [
      "Enter file path: C:\\Users\\jatin\\Desktop\\Data\\Test_score.csv\n"
     ]
    },
    {
     "data": {
      "text/html": [
       "<div>\n",
       "<style scoped>\n",
       "    .dataframe tbody tr th:only-of-type {\n",
       "        vertical-align: middle;\n",
       "    }\n",
       "\n",
       "    .dataframe tbody tr th {\n",
       "        vertical-align: top;\n",
       "    }\n",
       "\n",
       "    .dataframe thead th {\n",
       "        text-align: right;\n",
       "    }\n",
       "</style>\n",
       "<table border=\"1\" class=\"dataframe\">\n",
       "  <thead>\n",
       "    <tr style=\"text-align: right;\">\n",
       "      <th></th>\n",
       "      <th>Statistic</th>\n",
       "      <th>Score</th>\n",
       "    </tr>\n",
       "  </thead>\n",
       "  <tbody>\n",
       "    <tr>\n",
       "      <th>0</th>\n",
       "      <td>Mean</td>\n",
       "      <td>82.454545</td>\n",
       "    </tr>\n",
       "    <tr>\n",
       "      <th>1</th>\n",
       "      <td>Median</td>\n",
       "      <td>88.000000</td>\n",
       "    </tr>\n",
       "    <tr>\n",
       "      <th>2</th>\n",
       "      <td>Mode</td>\n",
       "      <td>88.000000</td>\n",
       "    </tr>\n",
       "  </tbody>\n",
       "</table>\n",
       "</div>"
      ],
      "text/plain": [
       "  Statistic      Score\n",
       "0      Mean  82.454545\n",
       "1    Median  88.000000\n",
       "2      Mode  88.000000"
      ]
     },
     "execution_count": 125,
     "metadata": {},
     "output_type": "execute_result"
    }
   ],
   "source": [
    "import pandas as pd\n",
    "\n",
    "# Prompt user to enter file path\n",
    "file_path = input(\"Enter file path: \")\n",
    "\n",
    "# Read CSV file into a Pandas DataFrame\n",
    "df = pd.read_csv(file_path)\n",
    "\n",
    "# Calculate mean, median, and mode of test scores\n",
    "mean_score = df['Test_score'].mean()\n",
    "median_score = df['Test_score'].median()\n",
    "mode_score = df['Test_score'].mode()[0]\n",
    "\n",
    "# Create a dictionary to store the results\n",
    "results = {\n",
    "    'Statistic': ['Mean', 'Median', 'Mode'],\n",
    "    'Score': [mean_score, median_score, mode_score]\n",
    "}\n",
    "\n",
    "# Convert the dictionary into a Pandas DataFrame\n",
    "results_df = pd.DataFrame(results)\n",
    "\n",
    "# Display the results table\n",
    "results_df\n"
   ]
  },
  {
   "cell_type": "code",
   "execution_count": null,
   "id": "76de7193",
   "metadata": {},
   "outputs": [],
   "source": []
  },
  {
   "cell_type": "code",
   "execution_count": null,
   "id": "5643c702",
   "metadata": {},
   "outputs": [],
   "source": []
  },
  {
   "cell_type": "code",
   "execution_count": null,
   "id": "bb8aa4be",
   "metadata": {},
   "outputs": [],
   "source": []
  },
  {
   "cell_type": "code",
   "execution_count": null,
   "id": "10cd5bf6",
   "metadata": {},
   "outputs": [],
   "source": []
  },
  {
   "cell_type": "code",
   "execution_count": null,
   "id": "ef617b9d",
   "metadata": {},
   "outputs": [],
   "source": []
  }
 ],
 "metadata": {
  "kernelspec": {
   "display_name": "Python 3 (ipykernel)",
   "language": "python",
   "name": "python3"
  },
  "language_info": {
   "codemirror_mode": {
    "name": "ipython",
    "version": 3
   },
   "file_extension": ".py",
   "mimetype": "text/x-python",
   "name": "python",
   "nbconvert_exporter": "python",
   "pygments_lexer": "ipython3",
   "version": "3.9.12"
  }
 },
 "nbformat": 4,
 "nbformat_minor": 5
}
