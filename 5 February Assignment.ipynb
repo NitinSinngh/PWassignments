{
 "cells": [
  {
   "cell_type": "markdown",
   "id": "37b39540",
   "metadata": {},
   "source": [
    "Q1. Explain Class and Object with respect to Object-Oriented Programming. Give a suitable example."
   ]
  },
  {
   "cell_type": "markdown",
   "id": "e336c19f",
   "metadata": {},
   "source": [
    "Ans. Class and Object are two fundamental concepts in Object-Oriented Programming (OOP).\n",
    "\n",
    "A Class is a blueprint for creating objects (a particular data structure), providing initial values for state (member variables or attributes), and implementations of behavior (member functions or methods). A class defines a type of object, but it is not an object itself.\n",
    "\n",
    "An Object is an instance of a class. It is a real-world entity that has state and behavior. For example, a car is an object, it has a make, model, year, color, etc. (state) and can start, stop, drive, etc. (behavior). In OOP, an object is created from a class and is given its own state and behavior."
   ]
  },
  {
   "cell_type": "code",
   "execution_count": 1,
   "id": "7a9ed9aa",
   "metadata": {},
   "outputs": [
    {
     "name": "stdout",
     "output_type": "stream",
     "text": [
      "Make: Tesla\n",
      "Model: Model 3\n",
      "Year: 2020\n",
      "Tesla Model 3 starts.\n",
      "Tesla Model 3 stops.\n"
     ]
    }
   ],
   "source": [
    "class Car:\n",
    "    def __init__(self, make, model, year):\n",
    "        self.make = make\n",
    "        self.model = model\n",
    "        self.year = year\n",
    "\n",
    "    def start(self):\n",
    "        print(f\"{self.make} {self.model} starts.\")\n",
    "\n",
    "    def stop(self):\n",
    "        print(f\"{self.make} {self.model} stops.\")\n",
    "\n",
    "# creating an object of the Car class\n",
    "my_car = Car(\"Tesla\", \"Model 3\", 2020)\n",
    "\n",
    "# accessing the attributes of the object\n",
    "print(\"Make:\", my_car.make)\n",
    "print(\"Model:\", my_car.model)\n",
    "print(\"Year:\", my_car.year)\n",
    "\n",
    "# calling the methods of the object\n",
    "my_car.start()\n",
    "my_car.stop()\n"
   ]
  },
  {
   "cell_type": "markdown",
   "id": "2302c0a2",
   "metadata": {},
   "source": [
    "Q2. Name the four pillars of OOPs."
   ]
  },
  {
   "cell_type": "markdown",
   "id": "309b0123",
   "metadata": {},
   "source": [
    "Ans. The four pillars of Object-Oriented Programming (OOP) are:\n",
    "\n",
    "1) Abstraction: Abstraction is the process of hiding the complexity of a system and displaying only the essential features to the user. It is the ability to focus on the essential features of an object and ignore the rest.\n",
    "\n",
    "2) Encapsulation: Encapsulation is the technique of wrapping data and functions within an object, making it a self-contained unit. It provides a layer of protection for the data, making it inaccessible to the outside world, and ensures that the data is manipulated only through the methods defined in the class.\n",
    "\n",
    "3) Inheritance: Inheritance is the mechanism of creating new classes from existing classes. The new class inherits all the properties and behaviors of the existing class and can add new properties and behaviors to them. This allows for code reusability and helps to reduce the amount of code that needs to be written.\n",
    "\n",
    "4) Polymorphism: Polymorphism is the ability of an object to take on multiple forms. It allows objects of different classes to be treated as objects of a common class. This enables the creation of flexible and reusable code, as the same method can be used for objects of different classes."
   ]
  },
  {
   "cell_type": "raw",
   "id": "58a8e2fc",
   "metadata": {},
   "source": [
    "Q3. Explain why the __init__() function is used. Give a suitable example."
   ]
  },
  {
   "cell_type": "raw",
   "id": "8af886be",
   "metadata": {},
   "source": [
    "The __init__ function is a special method in Python that is automatically called when an object of a class is created. \n",
    "It is used to initialize the attributes of the class and set their default values.\n",
    "The __init__ method is also known as the constructor of the class.\n"
   ]
  },
  {
   "cell_type": "code",
   "execution_count": 3,
   "id": "d21e724e",
   "metadata": {},
   "outputs": [
    {
     "name": "stdout",
     "output_type": "stream",
     "text": [
      "Name: John Doe, Age: 30\n"
     ]
    }
   ],
   "source": [
    "# Here is an example to demonstrate the use of the __init__ function:\n",
    "class Person:\n",
    "    def __init__(self, name, age):\n",
    "        self.name = name\n",
    "        self.age = age\n",
    "\n",
    "    def get_info(self):\n",
    "        print(f\"Name: {self.name}, Age: {self.age}\")\n",
    "\n",
    "person = Person(\"John Doe\", 30)\n",
    "person.get_info()\n"
   ]
  },
  {
   "cell_type": "markdown",
   "id": "e9b22596",
   "metadata": {},
   "source": [
    "Q4. Why self is used in OOPs?"
   ]
  },
  {
   "cell_type": "markdown",
   "id": "c451574f",
   "metadata": {},
   "source": [
    "In Object-Oriented Programming (OOP), the self keyword is used to refer to the instance of the class that is calling the method. The self parameter is always the first parameter in any method definition in a class, and it refers to the instance of the class that is calling the method.\n",
    "\n",
    "When a method is called on an object, the self parameter is automatically passed to the method as the reference to the object. This allows the method to access and modify the attributes of the object and perform operations on it."
   ]
  },
  {
   "cell_type": "markdown",
   "id": "485d3836",
   "metadata": {},
   "source": [
    "Q5. What is inheritance? Give an example for each type of inheritance."
   ]
  },
  {
   "cell_type": "markdown",
   "id": "14aaeeff",
   "metadata": {},
   "source": [
    "Inheritance is a mechanism in Object-Oriented Programming (OOP) that allows a new class to inherit properties and behavior from an existing class, known as the parent or base class. The derived class, also known as the child class, can add new properties and methods, or override existing ones, to modify or extend the behavior inherited from the parent class.\n",
    "\n",
    "In object-oriented programming, there are several types of inheritance, including:\n",
    "\n",
    "1) Single Inheritance: A derived class inherits from a single base class. This is the simplest form of inheritance where one class inherits the properties and methods of another class.\n",
    "\n",
    "2) Multi-level Inheritance: A derived class inherits from a base class, which itself inherits from another base class. In this type of inheritance, the properties and methods of multiple base classes are inherited by a single derived class.\n",
    "\n",
    "3) Multiple Inheritance: A derived class inherits from multiple base classes. In this type of inheritance, a single derived class inherits properties and methods from multiple base classes.\n",
    "\n",
    "4) Hierarchical Inheritance: Multiple derived classes inherit from a single base class. This is a form of multi-level inheritance where multiple derived classes inherit from a common base class.\n",
    "\n",
    "5) Hybrid Inheritance: A combination of two or more types of inheritance. It is a combination of two or more inheritance types in a single program."
   ]
  },
  {
   "cell_type": "code",
   "execution_count": 5,
   "id": "0cfa5a27",
   "metadata": {},
   "outputs": [
    {
     "name": "stdout",
     "output_type": "stream",
     "text": [
      "method1 of class A\n",
      "method2 of class B\n"
     ]
    }
   ],
   "source": [
    "# Single Inheritance:\n",
    "class A:\n",
    "    def method1(self):\n",
    "        print(\"method1 of class A\")\n",
    "        \n",
    "class B(A):\n",
    "    def method2(self):\n",
    "        print(\"method2 of class B\")\n",
    "\n",
    "b = B()\n",
    "b.method1()\n",
    "b.method2()\n"
   ]
  },
  {
   "cell_type": "code",
   "execution_count": 6,
   "id": "e0fb90fa",
   "metadata": {},
   "outputs": [
    {
     "name": "stdout",
     "output_type": "stream",
     "text": [
      "method1 of class A\n",
      "method2 of class B\n",
      "method3 of class C\n"
     ]
    }
   ],
   "source": [
    "# Multi-level Inheritance\n",
    "class A:\n",
    "    def method1(self):\n",
    "        print(\"method1 of class A\")\n",
    "\n",
    "class B(A):\n",
    "    def method2(self):\n",
    "        print(\"method2 of class B\")\n",
    "\n",
    "class C(B):\n",
    "    def method3(self):\n",
    "        print(\"method3 of class C\")\n",
    "\n",
    "c = C()\n",
    "c.method1()\n",
    "c.method2()\n",
    "c.method3()\n"
   ]
  },
  {
   "cell_type": "code",
   "execution_count": 7,
   "id": "99a18fb6",
   "metadata": {},
   "outputs": [
    {
     "name": "stdout",
     "output_type": "stream",
     "text": [
      "method1 of class A\n",
      "method2 of class B\n",
      "method3 of class C\n"
     ]
    }
   ],
   "source": [
    "# Multiple Inheritance\n",
    "class A:\n",
    "    def method1(self):\n",
    "        print(\"method1 of class A\")\n",
    "\n",
    "class B:\n",
    "    def method2(self):\n",
    "        print(\"method2 of class B\")\n",
    "\n",
    "class C(A, B):\n",
    "    def method3(self):\n",
    "        print(\"method3 of class C\")\n",
    "\n",
    "c = C()\n",
    "c.method1()\n",
    "c.method2()\n",
    "c.method3()\n"
   ]
  },
  {
   "cell_type": "code",
   "execution_count": 8,
   "id": "c7a96b32",
   "metadata": {},
   "outputs": [
    {
     "name": "stdout",
     "output_type": "stream",
     "text": [
      "method1 of class A\n",
      "method2 of class B\n",
      "method1 of class A\n",
      "method3 of class C\n"
     ]
    }
   ],
   "source": [
    "# Hierarchical Inheritance\n",
    "class A:\n",
    "    def method1(self):\n",
    "        print(\"method1 of class A\")\n",
    "\n",
    "class B(A):\n",
    "    def method2(self):\n",
    "        print(\"method2 of class B\")\n",
    "\n",
    "class C(A):\n",
    "    def method3(self):\n",
    "        print(\"method3 of class C\")\n",
    "        \n",
    "b = B()\n",
    "b.method1()\n",
    "b.method2()\n",
    "\n",
    "c = C()\n",
    "c.method1()\n",
    "c.method3()\n"
   ]
  },
  {
   "cell_type": "code",
   "execution_count": null,
   "id": "3ae543ba",
   "metadata": {},
   "outputs": [],
   "source": [
    "# Hybrid Inheritance\n",
    "class A:\n",
    "    def method1(self):\n",
    "        print(\"method1 of class A\")\n",
    "\n",
    "class B(A):\n",
    "    def method2(self):\n",
    "        print(\"method2 of class B\")\n",
    "\n",
    "class C(A):\n",
    "    def method3(self):\n",
    "        print(\"method3 of class C\")\n",
    "\n",
    "class D(B, C):\n",
    "    def method4(self):\n",
    "        print(\"method4 of class D\")\n",
    "\n",
    "d = D()\n",
    "d.method1()\n",
    "d.method2()\n",
    "d.method3()\n",
    "d.method4()\n",
    "\n"
   ]
  }
 ],
 "metadata": {
  "kernelspec": {
   "display_name": "Python 3 (ipykernel)",
   "language": "python",
   "name": "python3"
  },
  "language_info": {
   "codemirror_mode": {
    "name": "ipython",
    "version": 3
   },
   "file_extension": ".py",
   "mimetype": "text/x-python",
   "name": "python",
   "nbconvert_exporter": "python",
   "pygments_lexer": "ipython3",
   "version": "3.9.12"
  }
 },
 "nbformat": 4,
 "nbformat_minor": 5
}
