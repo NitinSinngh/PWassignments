{
 "cells": [
  {
   "cell_type": "markdown",
   "id": "7115357e",
   "metadata": {},
   "source": [
    "Q1. What is MongoDB? Explain non-relational databases in short. In which scenarios it is preferred to use\n",
    "MongoDB over SQL databases?\n",
    "\n",
    "Ans. MongoDB is a popular NoSQL document-oriented database that stores data in flexible, JSON-like documents, making it easy to store and retrieve complex hierarchical data structures. MongoDB is designed for scalability, high availability, and performance, and is widely used for a variety of applications, including web, mobile, and IoT.\n",
    "\n",
    "Non-relational databases, also known as NoSQL databases, are databases that do not use the traditional relational data model that SQL databases use. Instead, NoSQL databases use various data models, such as document-oriented, key-value, column-family, and graph databases. They are generally designed to handle large volumes of unstructured or semi-structured data and offer high scalability, performance, and flexibility.\n",
    "\n",
    "One of the key advantages of MongoDB over SQL databases is its flexibility in handling unstructured data. MongoDB stores data in JSON-like documents, which can be nested and can have arrays, making it easy to store complex hierarchical data structures. This is in contrast to SQL databases, which store data in tables with predefined columns and data types.\n",
    "\n",
    "Another advantage of MongoDB is its scalability and performance. MongoDB uses a distributed architecture that allows it to scale horizontally across multiple servers, making it suitable for handling large volumes of data and high traffic loads. MongoDB also supports indexing, sharding, and replication, which can improve performance and ensure high availability.\n",
    "\n",
    "MongoDB is generally preferred over SQL databases in scenarios where:\n",
    "\n",
    "1. There is a need to handle large volumes of unstructured or semi-structured data.\n",
    "2. There is a need for high scalability and performance, such as in web and mobile applications.\n",
    "3. There is a need for flexibility in the data model, as MongoDB's document-oriented data model can accommodate changes in the data structure more easily than SQL databases.\n",
    "4. There is a need for rapid application development, as MongoDB's flexible schema and agile development methodologies can speed up development cycles."
   ]
  },
  {
   "cell_type": "markdown",
   "id": "384567b0",
   "metadata": {},
   "source": [
    "Q2. State and Explain the features of MongoDB.\n",
    "\n",
    "Ans. MongoDB is a popular NoSQL document-oriented database that offers a range of features for managing and storing data. Some of the key features of MongoDB are:\n",
    "\n",
    "1. Document-oriented data model: MongoDB stores data in flexible, JSON-like documents, making it easy to store and retrieve complex hierarchical data structures. This allows for faster development and easier data modeling.\n",
    "\n",
    "2. Dynamic schema: MongoDB's dynamic schema allows for changes in the data model without requiring a pre-defined schema upfront. This makes it easier to evolve and adapt the data model as application requirements change.\n",
    "\n",
    "3. Scalability: MongoDB's distributed architecture allows it to scale horizontally across multiple servers, making it suitable for handling large volumes of data and high traffic loads.\n",
    "\n",
    "4. High availability: MongoDB supports replication and automatic failover, ensuring high availability and reliability.\n",
    "\n",
    "5. Performance: MongoDB uses memory-mapped files and supports indexing, sharding, and aggregation pipelines, which can improve query performance and throughput.\n",
    "\n",
    "5. Flexibility: MongoDB supports a range of data types and indexing options, making it suitable for a variety of applications and data structures.\n",
    "\n",
    "6. Security: MongoDB offers various security features, such as authentication, encryption, and access control, to ensure the security of data.\n",
    "\n",
    "7. Ad hoc queries: MongoDB supports ad hoc queries, allowing for flexible querying of data.\n",
    "\n",
    "8. Aggregation pipeline: MongoDB's aggregation pipeline allows for complex data transformations and aggregations, making it easy to perform complex analytics.\n",
    "\n",
    "9. Geospatial queries: MongoDB supports geospatial queries, allowing for location-based data to be easily queried and analyzed.\n",
    "\n",
    "Overall, MongoDB is a feature-rich database that offers flexibility, scalability, and performance for a variety of applications and data structures."
   ]
  },
  {
   "cell_type": "markdown",
   "id": "a8809b57",
   "metadata": {},
   "source": [
    "Q3. Write a code to connect MongoDB to Python. Also, create a database and a collection in MongoDB.\n",
    "\n",
    "Ans. In this example code, we first establish a connection to the MongoDB server running on the local machine. We then create a new database called \"mydatabase\" and a new collection called \"customers\" within that database.\n"
   ]
  },
  {
   "cell_type": "raw",
   "id": "b6ae6813",
   "metadata": {},
   "source": [
    "import pymongo\n",
    "\n",
    "# establish a connection to the MongoDB server\n",
    "client = pymongo.MongoClient(\"mongodb://localhost:27017/\")\n",
    "\n",
    "# create a new database called \"mydatabase\"\n",
    "mydb = client[\"mydatabase\"]\n",
    "\n",
    "# create a new collection called \"customers\" within \"mydatabase\"\n",
    "mycol = mydb[\"customers\"]\n"
   ]
  },
  {
   "cell_type": "markdown",
   "id": "793d2c2a",
   "metadata": {},
   "source": [
    "Q4. Using the database and the collection created in question number 3, write a code to insert one record,\n",
    "and insert many records. Use the find() and find_one() methods to print the inserted record.\n"
   ]
  },
  {
   "cell_type": "raw",
   "id": "8619746a",
   "metadata": {},
   "source": [
    "import pymongo\n",
    "\n",
    "# establish a connection to the MongoDB server\n",
    "client = pymongo.MongoClient(\"mongodb://localhost:27017/\")\n",
    "\n",
    "# create a new database called \"mydatabase\"\n",
    "mydb = client[\"mydatabase\"]\n",
    "\n",
    "# create a new collection called \"customers\" within \"mydatabase\"\n",
    "mycol = mydb[\"customers\"]\n",
    "\n",
    "# insert one record into the \"customers\" collection\n",
    "mydict = { \"name\": \"John\", \"address\": \"Highway 37\" }\n",
    "x = mycol.insert_one(mydict)\n",
    "\n",
    "# print the inserted record using find_one() method\n",
    "print(mycol.find_one())\n",
    "\n",
    "# insert many records into the \"customers\" collection\n",
    "mylist = [\n",
    "  { \"name\": \"Amy\", \"address\": \"Apple st 652\"},\n",
    "  { \"name\": \"Hannah\", \"address\": \"Mountain 21\"},\n",
    "  { \"name\": \"Michael\", \"address\": \"Valley 345\"},\n",
    "  { \"name\": \"Sandy\", \"address\": \"Ocean blvd 2\"},\n",
    "  { \"name\": \"Betty\", \"address\": \"Green Grass 1\"},\n",
    "  { \"name\": \"Richard\", \"address\": \"Sky st 331\"},\n",
    "  { \"name\": \"Susan\", \"address\": \"One way 98\"},\n",
    "  { \"name\": \"Vicky\", \"address\": \"Yellow Garden 2\"},\n",
    "  { \"name\": \"Ben\", \"address\": \"Park Lane 38\"},\n",
    "  { \"name\": \"William\", \"address\": \"Central st 954\"},\n",
    "  { \"name\": \"Chuck\", \"address\": \"Main Road 989\"},\n",
    "  { \"name\": \"Viola\", \"address\": \"Sideway 1633\"}\n",
    "]\n",
    "\n",
    "x = mycol.insert_many(mylist)\n",
    "\n",
    "# print all records using find() method\n",
    "for record in mycol.find():\n",
    "    print(record)\n"
   ]
  },
  {
   "cell_type": "markdown",
   "id": "5a431caf",
   "metadata": {},
   "source": [
    "Q5. Explain how you can use the find() method to query the MongoDB database. Write a simple code to demonstrate this.\n",
    "\n",
    "Ans. In MongoDB, the find() method is used to query data from a collection. The find() method returns a cursor object which can be used to iterate over the documents in the result set.\n",
    "\n",
    "To use the find() method to query the MongoDB database, you need to specify a query parameter that defines the criteria for selecting documents from the collection. The query parameter is a dictionary object that specifies the key-value pairs that the documents in the collection must match.\n",
    "\n",
    "Here's an example code that demonstrates how to use the find() method to query a MongoDB database:"
   ]
  },
  {
   "cell_type": "raw",
   "id": "bddd0f88",
   "metadata": {},
   "source": [
    "import pymongo\n",
    "\n",
    "# establish a connection to the MongoDB server\n",
    "client = pymongo.MongoClient(\"mongodb://localhost:27017/\")\n",
    "\n",
    "# create a new database called \"mydatabase\"\n",
    "mydb = client[\"mydatabase\"]\n",
    "\n",
    "# create a new collection called \"customers\" within \"mydatabase\"\n",
    "mycol = mydb[\"customers\"]\n",
    "\n",
    "# define a query parameter for the \"find()\" method\n",
    "query = { \"address\": \"Mountain 21\" }\n",
    "\n",
    "# use the \"find()\" method to query the \"customers\" collection\n",
    "results = mycol.find(query)\n",
    "\n",
    "# iterate over the results set and print the documents that match the query\n",
    "for doc in results:\n",
    "    print(doc)\n"
   ]
  },
  {
   "cell_type": "markdown",
   "id": "3b095d34",
   "metadata": {},
   "source": [
    "In this example, we first establish a connection to the MongoDB server, create a new database called \"mydatabase\", and a new collection called \"customers\" within \"mydatabase\". Then, we define a query parameter for the find() method that selects all documents in the \"customers\" collection that have an \"address\" field equal to \"Mountain 21\". We use the find() method to query the \"customers\" collection and store the results in a cursor object called results. Finally, we iterate over the results cursor and print each document that matches the query."
   ]
  },
  {
   "cell_type": "markdown",
   "id": "5519fa3b",
   "metadata": {},
   "source": [
    "Q6. Explain the sort() method. Give an example to demonstrate sorting in MongoDB.\n",
    "\n",
    "Ans. In MongoDB, the sort() method is used to sort the documents in a collection based on one or more fields. The sort() method takes a dictionary object as an argument that specifies the field(s) to sort on and the sort order.\n",
    "\n",
    "The dictionary object has one or more key-value pairs, where each key is the name of the field to sort on and the value is either 1 or -1. A value of 1 indicates ascending order and a value of -1 indicates descending order.\n",
    "\n",
    "Here's an example code that demonstrates sorting in MongoDB using the sort() method:"
   ]
  },
  {
   "cell_type": "raw",
   "id": "17dbc5c4",
   "metadata": {},
   "source": [
    "import pymongo\n",
    "\n",
    "# establish a connection to the MongoDB server\n",
    "client = pymongo.MongoClient(\"mongodb://localhost:27017/\")\n",
    "\n",
    "# select the \"mydatabase\" database\n",
    "db = client[\"mydatabase\"]\n",
    "\n",
    "# select the \"mycollection\" collection\n",
    "col = db[\"mycollection\"]\n",
    "\n",
    "# insert some documents into the collection\n",
    "docs = [\n",
    "    { \"name\": \"John\", \"age\": 25 },\n",
    "    { \"name\": \"Alice\", \"age\": 32 },\n",
    "    { \"name\": \"Bob\", \"age\": 20 },\n",
    "    { \"name\": \"David\", \"age\": 45 },\n",
    "    { \"name\": \"Eve\", \"age\": 28 }\n",
    "]\n",
    "col.insert_many(docs)\n",
    "\n",
    "# sort the documents in the collection by age in ascending order\n",
    "results = col.find().sort(\"age\", 1)\n",
    "\n",
    "# print the sorted documents\n",
    "for doc in results:\n",
    "    print(doc)\n"
   ]
  },
  {
   "cell_type": "markdown",
   "id": "78fd3079",
   "metadata": {},
   "source": [
    "In this example, we first establish a connection to the MongoDB server, select the \"mydatabase\" database and the \"mycollection\" collection, and insert some documents into the collection. Then, we use the sort() method to sort the documents in the collection by the \"age\" field in ascending order (i.e., from youngest to oldest). We store the sorted results in a cursor object called results and iterate over the cursor to print each document."
   ]
  },
  {
   "cell_type": "markdown",
   "id": "19e16571",
   "metadata": {},
   "source": [
    "Q7. Explain why delete_one(), delete_many(), and drop() is used.\n",
    "\n",
    "Ans. In MongoDB, delete_one(), delete_many(), and drop() are methods used to remove documents or collections from a database.\n",
    "\n",
    "1. delete_one() method is used to delete a single document that matches a specified filter criteria from a collection.\n",
    "\n",
    "2. delete_many() method is used to delete all documents that match a specified filter criteria from a collection.\n",
    "\n",
    "3. drop() method is used to remove an entire collection from a database.\n",
    "\n",
    "These methods are useful when you need to remove documents or collections that are no longer needed or have become outdated. For example, if you have a collection of user profiles and a user decides to delete their account, you can use the delete_one() method to remove their profile from the collection. Similarly, if you need to remove all user profiles from the collection, you can use the delete_many() method.\n",
    "\n",
    "The drop() method is useful when you need to remove an entire collection, for example, if the collection is no longer needed or you want to start fresh with a new collection."
   ]
  },
  {
   "cell_type": "code",
   "execution_count": null,
   "id": "6efadc90",
   "metadata": {},
   "outputs": [],
   "source": []
  }
 ],
 "metadata": {
  "kernelspec": {
   "display_name": "Python 3 (ipykernel)",
   "language": "python",
   "name": "python3"
  },
  "language_info": {
   "codemirror_mode": {
    "name": "ipython",
    "version": 3
   },
   "file_extension": ".py",
   "mimetype": "text/x-python",
   "name": "python",
   "nbconvert_exporter": "python",
   "pygments_lexer": "ipython3",
   "version": "3.9.12"
  }
 },
 "nbformat": 4,
 "nbformat_minor": 5
}
